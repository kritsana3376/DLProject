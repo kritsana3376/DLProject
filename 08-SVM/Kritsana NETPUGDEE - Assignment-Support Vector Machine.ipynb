{
 "cells": [
  {
   "cell_type": "markdown",
   "metadata": {
    "id": "305xXOJnVV70"
   },
   "source": [
    "## Introduction\n",
    "\n",
    "In this exercise, you will be using support vector machines (SVMs) to build a classifier of activity classification. To get started with the exercise, you will need to download the activity.csv to the directory where you wish to complete the exercise."
   ]
  },
  {
   "cell_type": "markdown",
   "metadata": {
    "id": "LDsPHDYQVV73"
   },
   "source": [
    "Support Vector Machines (SVMs in short) are machine learning algorithms that are used for classification and regression purposes. SVMs are one of the powerful machine learning algorithms for classification, regression and outlier detection purposes. An SVM classifier builds a model that assigns new data points to one of the given categories.\n",
    "\n",
    "In SVMs, our main objective is to select a hyperplane with the maximum possible margin between support vectors in the given dataset. SVM searches for the maximum margin hyperplane in the following 2 step process –\n",
    "\n",
    "1. Generate hyperplanes which segregates the classes in the best possible way. There are many hyperplanes that might classify the data. We should look for the best hyperplane that represents the largest separation, or margin, between the two classes.\n",
    "\n",
    "2. So, we choose the hyperplane so that distance from it to the support vectors on each side is maximized. If such a hyperplane exists, it is known as the maximum margin hyperplane and the linear classifier it defines is known as a maximum margin classifier.\n",
    "\n",
    "The following diagram illustrates the concept of maximum margin hyperplane in a clear manner.\n",
    "\n",
    "<img src=\"Maximum_margin.png\" width=\"600\" align=\"center\">\n",
    "\n",
    "Sometimes, it is not possible to separate them using a linear hyperplane. In such a situation, SVMs uses a kernel trick to transform the input space to a higher dimensional space as shown in the diagram below. It uses a mapping function to transform the 2-D input space into the 3-D input space. Now, we can easily segregate the data points using linear separation.\n",
    "\n",
    "<img src=\"Kernel_trick.png\" width=\"600\" align=\"center\">"
   ]
  },
  {
   "cell_type": "markdown",
   "metadata": {
    "id": "aRCyloJ-VV75"
   },
   "source": [
    "### Kernel function\n",
    "\n",
    "1. Linear kernel: In linear kernel, the kernel function takes the form of a linear function as follows:\n",
    "\n",
    "$$\\text{linear kernel} : K(x^{(i)} , x^{(j)} ) = x^{(i)^T} x^{(j)}$$\n",
    "\n",
    "Linear kernel is used when the data is linearly separable. It means that data can be separated using a single line. It is one of the most common kernels to be used. \n",
    "\n",
    "2. Polynomial Kernel: Polynomial kernel represents the similarity of vectors (training samples) in a feature space over polynomials of the original variables.\n",
    "\n",
    "$$\\text{linear kernel} : K(x^{(i)} , x^{(j)} ) = (x^{(i)^T} x^{(j)} + c)^r\\qquad\\text{where } c \\geq 0$$\n",
    "\n",
    "3. Radial Basis Function Kernel: Radial basis function kernel is a general purpose kernel. It is used when we have no prior knowledge about the data. \n",
    "\n",
    "$$\\text{linear kernel} : K(x^{(i)} , x^{(j)} ) = \\exp\\left[-\\frac{\\|x^{(i)} - x^{(j)} \\|}{2\\sigma^2}\\right] $$"
   ]
  },
  {
   "cell_type": "code",
   "execution_count": 2,
   "metadata": {
    "executionInfo": {
     "elapsed": 1422,
     "status": "ok",
     "timestamp": 1663409115052,
     "user": {
      "displayName": "Kritsana NETPUGDEE",
      "userId": "05106911141807819991"
     },
     "user_tz": -420
    },
    "id": "qsWr229HVV77"
   },
   "outputs": [],
   "source": [
    "import numpy as np\n",
    "import pandas as pd\n",
    "import seaborn as sns\n",
    "import matplotlib.pyplot as plt \n",
    "%matplotlib inline"
   ]
  },
  {
   "cell_type": "code",
   "execution_count": null,
   "metadata": {
    "colab": {
     "background_save": true,
     "base_uri": "https://localhost:8080/",
     "height": 74,
     "output_embedded_package_id": "1QiqLHeP6G-9hRTf3rB3WkRXtrT3MxRLn"
    },
    "id": "vbs-4Ko2VV8D",
    "outputId": "02911922-35e7-4b8f-93aa-4ca3d3ec4070"
   },
   "outputs": [],
   "source": [
    "from google.colab import files\n",
    "files.upload()\n",
    "\n"
   ]
  },
  {
   "cell_type": "code",
   "execution_count": null,
   "metadata": {
    "id": "PrA9Ek6z7d3M"
   },
   "outputs": [],
   "source": [
    "df = pd.read_csv('Kritsana NETPUGDEE - activity.csv')\n",
    "df.head()"
   ]
  },
  {
   "cell_type": "code",
   "execution_count": null,
   "metadata": {
    "id": "pcvl_vU3VV8O",
    "outputId": "84765c18-3c35-4dda-c0dc-46b178199073"
   },
   "outputs": [
    {
     "data": {
      "text/plain": [
       "(2947, 563)"
      ]
     },
     "execution_count": 3,
     "metadata": {},
     "output_type": "execute_result"
    }
   ],
   "source": [
    "df.shape"
   ]
  },
  {
   "cell_type": "code",
   "execution_count": null,
   "metadata": {
    "id": "PhsKbsIQVV8W",
    "outputId": "4f97d286-1c66-4d58-c495-614ec5e09ab3"
   },
   "outputs": [
    {
     "data": {
      "text/plain": [
       "Index(['tBodyAcc-mean()-X', 'tBodyAcc-mean()-Y', 'tBodyAcc-mean()-Z',\n",
       "       'tBodyAcc-std()-X', 'tBodyAcc-std()-Y', 'tBodyAcc-std()-Z',\n",
       "       'tBodyAcc-mad()-X', 'tBodyAcc-mad()-Y', 'tBodyAcc-mad()-Z',\n",
       "       'tBodyAcc-max()-X',\n",
       "       ...\n",
       "       'fBodyBodyGyroJerkMag-kurtosis()', 'angle(tBodyAccMean,gravity)',\n",
       "       'angle(tBodyAccJerkMean),gravityMean)',\n",
       "       'angle(tBodyGyroMean,gravityMean)',\n",
       "       'angle(tBodyGyroJerkMean,gravityMean)', 'angle(X,gravityMean)',\n",
       "       'angle(Y,gravityMean)', 'angle(Z,gravityMean)', 'subject', 'Activity'],\n",
       "      dtype='object', length=563)"
      ]
     },
     "execution_count": 4,
     "metadata": {},
     "output_type": "execute_result"
    }
   ],
   "source": [
    "df.columns"
   ]
  },
  {
   "cell_type": "markdown",
   "metadata": {
    "id": "ar11nuqvvx3K"
   },
   "source": [
    "## <font color='red'>Practice</font>\n",
    "\n",
    "Checking whether there is any null values on each input feature."
   ]
  },
  {
   "cell_type": "code",
   "execution_count": null,
   "metadata": {
    "id": "eDOJ1fGWvx3K"
   },
   "outputs": [],
   "source": [
    "# write your code here\n",
    "# ====================\n",
    "\n"
   ]
  },
  {
   "cell_type": "code",
   "execution_count": null,
   "metadata": {
    "id": "_W379j9uVV8f",
    "outputId": "703b64b8-e6ba-4e9b-b7ab-9bc2067f9edf"
   },
   "outputs": [
    {
     "data": {
      "text/plain": [
       "tBodyAcc-mean()-X       0\n",
       "tBodyAcc-mean()-Y       0\n",
       "tBodyAcc-mean()-Z       0\n",
       "tBodyAcc-std()-X        0\n",
       "tBodyAcc-std()-Y        0\n",
       "                       ..\n",
       "angle(X,gravityMean)    0\n",
       "angle(Y,gravityMean)    0\n",
       "angle(Z,gravityMean)    0\n",
       "subject                 0\n",
       "Activity                0\n",
       "Length: 563, dtype: int64"
      ]
     },
     "execution_count": 5,
     "metadata": {},
     "output_type": "execute_result"
    }
   ],
   "source": []
  },
  {
   "cell_type": "markdown",
   "metadata": {
    "id": "69T-3JeGvx3M"
   },
   "source": [
    "## <font color='red'>Practice</font>\n",
    "\n",
    "Count the number of each activity type."
   ]
  },
  {
   "cell_type": "code",
   "execution_count": null,
   "metadata": {
    "id": "qgMWkrUsvx3M"
   },
   "outputs": [],
   "source": [
    "# write your code here\n",
    "# ====================\n",
    "\n"
   ]
  },
  {
   "cell_type": "code",
   "execution_count": null,
   "metadata": {
    "id": "x0LjPp25VV8m",
    "outputId": "58543660-2b4a-4611-cdb4-f7223f710a3f"
   },
   "outputs": [
    {
     "data": {
      "text/plain": [
       "LAYING                537\n",
       "STANDING              532\n",
       "WALKING               496\n",
       "SITTING               491\n",
       "WALKING_UPSTAIRS      471\n",
       "WALKING_DOWNSTAIRS    420\n",
       "Name: Activity, dtype: int64"
      ]
     },
     "execution_count": 6,
     "metadata": {},
     "output_type": "execute_result"
    }
   ],
   "source": []
  },
  {
   "cell_type": "code",
   "execution_count": null,
   "metadata": {
    "id": "RM6xlasRVV8v"
   },
   "outputs": [],
   "source": [
    "# Seperating Predictors and Outcome values from train and test sets\n",
    "X = pd.DataFrame(df.drop(['Activity','subject'],axis=1))\n",
    "y_label = df.Activity.values.astype(object)"
   ]
  },
  {
   "cell_type": "code",
   "execution_count": null,
   "metadata": {
    "id": "lrKJ-dRyVV88"
   },
   "outputs": [],
   "source": [
    "# Transforming non numerical labels into numerical labels\n",
    "from sklearn import preprocessing\n",
    "encoder = preprocessing.LabelEncoder()\n",
    "\n",
    "# Encoding data labels \n",
    "encoder.fit(y_label)\n",
    "y = encoder.transform(y_label)"
   ]
  },
  {
   "cell_type": "markdown",
   "metadata": {
    "id": "-ODq_Mwdvx3P"
   },
   "source": [
    "## <font color='red'>Practice</font>\n",
    "\n",
    "Normalize the input feature X using **StandardScaler**."
   ]
  },
  {
   "cell_type": "code",
   "execution_count": null,
   "metadata": {
    "id": "8JdBEV2pvx3P"
   },
   "outputs": [],
   "source": [
    "# write your code here\n",
    "# ====================\n",
    "\n",
    "X_scaled = "
   ]
  },
  {
   "cell_type": "code",
   "execution_count": null,
   "metadata": {
    "id": "jzF4ouxrVV9I",
    "outputId": "5c55acc6-21b5-45f3-e3f6-4a83bcf85d95"
   },
   "outputs": [
    {
     "name": "stdout",
     "output_type": "stream",
     "text": [
      "Dimension of X (2947, 561)\n",
      "Dimension of y (2947,)\n"
     ]
    }
   ],
   "source": [
    "# Dimension of input features and target label \n",
    "print(\"Dimension of X\",X_scaled.shape)\n",
    "print(\"Dimension of y\",y.shape)"
   ]
  },
  {
   "cell_type": "markdown",
   "metadata": {
    "id": "DElpVbu1vx3Q"
   },
   "source": [
    "## <font color='red'>Practice</font>\n",
    "\n",
    "Split the data into training and testing dataset with 70:30 ration and random_state=5."
   ]
  },
  {
   "cell_type": "code",
   "execution_count": null,
   "metadata": {
    "id": "GfqOR_vLvx3Q"
   },
   "outputs": [],
   "source": [
    "# write your code here\n",
    "# ====================\n",
    "\n"
   ]
  },
  {
   "cell_type": "code",
   "execution_count": null,
   "metadata": {
    "id": "m8TMKkpTVV9a",
    "outputId": "fe9fd48b-2473-412b-be69-50fccc892f49"
   },
   "outputs": [
    {
     "name": "stdout",
     "output_type": "stream",
     "text": [
      "Dimension of X-Train set (2062, 561)\n",
      "Dimension of X-Test set (885, 561)\n",
      "Dimension of y-Train set (2062,)\n",
      "Dimension of y-Test set (885,)\n"
     ]
    }
   ],
   "source": [
    "# Dimension of Train and Test set \n",
    "print(\"Dimension of X-Train set\",X_train.shape)\n",
    "print(\"Dimension of X-Test set\",X_test.shape)\n",
    "print(\"Dimension of y-Train set\",y_train.shape)\n",
    "print(\"Dimension of y-Test set\",y_test.shape)"
   ]
  },
  {
   "cell_type": "code",
   "execution_count": null,
   "metadata": {
    "id": "-2lPHYdUVV9g",
    "outputId": "f4c9292e-8075-47ae-b897-60597104bc4f"
   },
   "outputs": [
    {
     "name": "stdout",
     "output_type": "stream",
     "text": [
      "Accuracy Score: 0.9819\n"
     ]
    }
   ],
   "source": [
    "# Running SVM with default hyperparameter\n",
    "from sklearn.svm import SVC\n",
    "\n",
    "svc = SVC() #Default hyperparameters\n",
    "svc.fit(X_train,y_train)"
   ]
  },
  {
   "cell_type": "code",
   "execution_count": null,
   "metadata": {
    "id": "Baoi8XMzvx3S"
   },
   "outputs": [],
   "source": [
    "from sklearn import metrics\n",
    "\n",
    "y_pred = svc.predict(X_test)\n",
    "print('Accuracy Score: %0.4f' %(metrics.accuracy_score(y_test,y_pred)))"
   ]
  },
  {
   "cell_type": "markdown",
   "metadata": {
    "id": "96U5sXt4vx3S"
   },
   "source": [
    "## <font color='red'>Practice</font>\n",
    "\n",
    "Create SVC-linear with default hyperparameter and also evaluate the accuracy score on testing dataset."
   ]
  },
  {
   "cell_type": "code",
   "execution_count": null,
   "metadata": {
    "id": "M_8nt4SJvx3S"
   },
   "outputs": [],
   "source": [
    "# write your code here\n",
    "# ====================\n",
    "\n",
    "\n"
   ]
  },
  {
   "cell_type": "code",
   "execution_count": null,
   "metadata": {
    "id": "PPcAcbx7VV9m",
    "outputId": "b749afd5-11d5-4b08-bc25-e254a93d42c8"
   },
   "outputs": [
    {
     "name": "stdout",
     "output_type": "stream",
     "text": [
      "Accuracy Score: 0.9785\n"
     ]
    }
   ],
   "source": []
  },
  {
   "cell_type": "markdown",
   "metadata": {
    "id": "tCDupLFKvx3T"
   },
   "source": [
    "## <font color='red'>Practice</font>\n",
    "\n",
    "Create SVC-RBF kernel with default hyperparameter and also evaluate the accuracy score on testing dataset."
   ]
  },
  {
   "cell_type": "code",
   "execution_count": null,
   "metadata": {
    "id": "v80EZNiGvx3T"
   },
   "outputs": [],
   "source": [
    "# write your code here\n",
    "# ====================\n",
    "\n",
    "\n"
   ]
  },
  {
   "cell_type": "code",
   "execution_count": null,
   "metadata": {
    "id": "le4s5lxxVV9x",
    "outputId": "ec51710b-b905-403c-f52a-767b465ceb56"
   },
   "outputs": [
    {
     "name": "stdout",
     "output_type": "stream",
     "text": [
      "Accuracy Score: 0.9819\n"
     ]
    }
   ],
   "source": []
  },
  {
   "cell_type": "markdown",
   "metadata": {
    "id": "j-A68Cytvx3U"
   },
   "source": [
    "## <font color='red'>Practice</font>\n",
    "\n",
    "Create SVC-Polynomial kernel with default hyperparameter and also evaluate the accuracy score on testing dataset."
   ]
  },
  {
   "cell_type": "code",
   "execution_count": null,
   "metadata": {
    "id": "4BUlM9Kuvx3U"
   },
   "outputs": [],
   "source": [
    "# write your code here\n",
    "# ====================\n",
    "\n"
   ]
  },
  {
   "cell_type": "code",
   "execution_count": null,
   "metadata": {
    "id": "GhI_fUefVV95",
    "outputId": "626072ad-b6c5-4353-e065-60e38bbb43ac"
   },
   "outputs": [
    {
     "name": "stdout",
     "output_type": "stream",
     "text": [
      "Accuracy Score: 0.9593\n"
     ]
    }
   ],
   "source": []
  },
  {
   "cell_type": "code",
   "execution_count": null,
   "metadata": {
    "id": "ycCUoaqqVV9_"
   },
   "outputs": [],
   "source": [
    "# Create the parameter grid based on the results of random search \n",
    "params_grid = [{'kernel': ['rbf'], 'gamma': [1, 1e-2, 1e-3, 1e-4],\n",
    "                     'C': [1, 10, 100, 1000]},\n",
    "               {'kernel': ['linear'], 'C': [1, 10, 100, 1000]}]\n"
   ]
  },
  {
   "cell_type": "code",
   "execution_count": null,
   "metadata": {
    "id": "9Vsp3HykVV-I",
    "outputId": "44f1c52b-ecd3-4b60-ea18-f5f33d1f13c4"
   },
   "outputs": [
    {
     "data": {
      "text/plain": [
       "GridSearchCV(cv=5, error_score=nan,\n",
       "             estimator=SVC(C=1.0, break_ties=False, cache_size=200,\n",
       "                           class_weight=None, coef0=0.0,\n",
       "                           decision_function_shape='ovr', degree=3,\n",
       "                           gamma='scale', kernel='rbf', max_iter=-1,\n",
       "                           probability=False, random_state=None, shrinking=True,\n",
       "                           tol=0.001, verbose=False),\n",
       "             iid='deprecated', n_jobs=None,\n",
       "             param_grid=[{'C': [1, 10, 100, 1000],\n",
       "                          'gamma': [1, 0.01, 0.001, 0.0001],\n",
       "                          'kernel': ['rbf']},\n",
       "                         {'C': [1, 10, 100, 1000], 'kernel': ['linear']}],\n",
       "             pre_dispatch='2*n_jobs', refit=True, return_train_score=False,\n",
       "             scoring=None, verbose=0)"
      ]
     },
     "execution_count": 19,
     "metadata": {},
     "output_type": "execute_result"
    }
   ],
   "source": [
    "# Performing CV to tune parameters for best SVM fit\n",
    "from sklearn.model_selection import GridSearchCV\n",
    "\n",
    "svm_model = GridSearchCV(SVC(), params_grid, cv=5)\n",
    "svm_model.fit(X_train, y_train)"
   ]
  },
  {
   "cell_type": "code",
   "execution_count": null,
   "metadata": {
    "id": "QkUCOTNIVV-P",
    "outputId": "a9793a62-999a-4cfd-a343-0fe2728950fa"
   },
   "outputs": [
    {
     "name": "stdout",
     "output_type": "stream",
     "text": [
      "Best C: 10 \n",
      "\n",
      "Best Kernel: rbf \n",
      "\n",
      "Best Gamma: 0.001 \n",
      "\n",
      "Best score for training data: 0.9821\n",
      "\n",
      "Accuracy Score for testing data: 0.9853\n"
     ]
    }
   ],
   "source": [
    "# View the best parameters for the model found using grid search\n",
    "print('Best C:',svm_model.best_estimator_.C,\"\\n\") \n",
    "print('Best Kernel:',svm_model.best_estimator_.kernel,\"\\n\")\n",
    "print('Best Gamma:',svm_model.best_estimator_.gamma,\"\\n\")\n",
    "print('Best score for training data: %0.4f\\n' %(svm_model.best_score_))\n",
    "\n",
    "final_model = svm_model.best_estimator_\n",
    "y_pred = final_model.predict(X_test)\n",
    "print('Accuracy Score for testing data: %0.4f' %(metrics.accuracy_score(y_test,y_pred)))"
   ]
  },
  {
   "cell_type": "code",
   "execution_count": null,
   "metadata": {
    "id": "1CQ-r2S9VV-V",
    "outputId": "7c28a295-0756-4d55-9fcc-ef1c1496c0b4"
   },
   "outputs": [
    {
     "name": "stdout",
     "output_type": "stream",
     "text": [
      "Confusion matrix\n",
      " [[157   0   0   0   0   0]\n",
      " [  1 144   5   0   0   0]\n",
      " [  0   7 152   0   0   0]\n",
      " [  0   0   0 156   0   0]\n",
      " [  0   0   0   0 121   0]\n",
      " [  0   0   0   0   0 142]]\n"
     ]
    }
   ],
   "source": [
    "# visualize confusion matrix with seaborn heatmap\n",
    "from sklearn.metrics import confusion_matrix\n",
    "\n",
    "cm = confusion_matrix(y_test, y_pred)\n",
    "print('Confusion matrix\\n', cm)"
   ]
  },
  {
   "cell_type": "code",
   "execution_count": null,
   "metadata": {
    "id": "a_kU2nRdVV-e",
    "outputId": "7b37e31d-3361-4010-b6fb-dfd7de4ddcb5"
   },
   "outputs": [
    {
     "name": "stdout",
     "output_type": "stream",
     "text": [
      "                    precision    recall  f1-score   support\n",
      "\n",
      "            LAYING       0.99      1.00      1.00       157\n",
      "           SITTING       0.95      0.96      0.96       150\n",
      "          STANDING       0.97      0.96      0.96       159\n",
      "           WALKING       1.00      1.00      1.00       156\n",
      "WALKING_DOWNSTAIRS       1.00      1.00      1.00       121\n",
      "  WALKING_UPSTAIRS       1.00      1.00      1.00       142\n",
      "\n",
      "          accuracy                           0.99       885\n",
      "         macro avg       0.99      0.99      0.99       885\n",
      "      weighted avg       0.99      0.99      0.99       885\n",
      "\n"
     ]
    }
   ],
   "source": [
    "from sklearn.metrics import classification_report\n",
    "\n",
    "Y_test_label = list(encoder.inverse_transform(y_test))\n",
    "Y_pred_label = list(encoder.inverse_transform(y_pred))\n",
    "print(classification_report(Y_test_label,Y_pred_label))"
   ]
  },
  {
   "cell_type": "markdown",
   "metadata": {
    "id": "rH-sqcQTVV-l"
   },
   "source": [
    "## Support Vector Regression\n",
    "\n",
    "Here, we will build several models for predicting the future stock price. You will work with historical data about the stock prices of a publicly listed company in the Stock Exchange of Thailand (SET). "
   ]
  },
  {
   "cell_type": "code",
   "execution_count": null,
   "metadata": {
    "id": "onyBohx3VV-m"
   },
   "outputs": [],
   "source": [
    "import numpy as np\n",
    "import time\n",
    "import matplotlib.pyplot as plt\n",
    "import pandas as pd\n",
    "import pandas_datareader as web #pip install pandas-datareader\n",
    "%matplotlib inline"
   ]
  },
  {
   "cell_type": "code",
   "execution_count": null,
   "metadata": {
    "colab": {
     "base_uri": "https://localhost:8080/",
     "height": 235
    },
    "executionInfo": {
     "elapsed": 1238,
     "status": "ok",
     "timestamp": 1599914558438,
     "user": {
      "displayName": "Ekachai PHAISANGITTISAGUL",
      "photoUrl": "https://lh3.googleusercontent.com/a-/AOh14GhHdwjOSEWwFX9AC5qmWEjRPIRLBZbVCKDD9-tf=s64",
      "userId": "02198335233660184449"
     },
     "user_tz": -420
    },
    "id": "jct6lHqgVV-s",
    "outputId": "cde90bb0-f67e-4b14-9932-c225c17be1bf"
   },
   "outputs": [
    {
     "data": {
      "text/html": [
       "<div>\n",
       "<style scoped>\n",
       "    .dataframe tbody tr th:only-of-type {\n",
       "        vertical-align: middle;\n",
       "    }\n",
       "\n",
       "    .dataframe tbody tr th {\n",
       "        vertical-align: top;\n",
       "    }\n",
       "\n",
       "    .dataframe thead th {\n",
       "        text-align: right;\n",
       "    }\n",
       "</style>\n",
       "<table border=\"1\" class=\"dataframe\">\n",
       "  <thead>\n",
       "    <tr style=\"text-align: right;\">\n",
       "      <th></th>\n",
       "      <th>High</th>\n",
       "      <th>Low</th>\n",
       "      <th>Open</th>\n",
       "      <th>Close</th>\n",
       "      <th>Volume</th>\n",
       "      <th>Adj Close</th>\n",
       "    </tr>\n",
       "    <tr>\n",
       "      <th>Date</th>\n",
       "      <th></th>\n",
       "      <th></th>\n",
       "      <th></th>\n",
       "      <th></th>\n",
       "      <th></th>\n",
       "      <th></th>\n",
       "    </tr>\n",
       "  </thead>\n",
       "  <tbody>\n",
       "    <tr>\n",
       "      <th>2019-01-02</th>\n",
       "      <td>46.75</td>\n",
       "      <td>46.25</td>\n",
       "      <td>46.25</td>\n",
       "      <td>46.25</td>\n",
       "      <td>30481900.0</td>\n",
       "      <td>43.030319</td>\n",
       "    </tr>\n",
       "    <tr>\n",
       "      <th>2019-01-03</th>\n",
       "      <td>47.00</td>\n",
       "      <td>45.25</td>\n",
       "      <td>46.50</td>\n",
       "      <td>45.50</td>\n",
       "      <td>53438400.0</td>\n",
       "      <td>42.332527</td>\n",
       "    </tr>\n",
       "    <tr>\n",
       "      <th>2019-01-04</th>\n",
       "      <td>47.00</td>\n",
       "      <td>45.25</td>\n",
       "      <td>45.50</td>\n",
       "      <td>46.75</td>\n",
       "      <td>60708300.0</td>\n",
       "      <td>43.495510</td>\n",
       "    </tr>\n",
       "    <tr>\n",
       "      <th>2019-01-07</th>\n",
       "      <td>48.75</td>\n",
       "      <td>47.25</td>\n",
       "      <td>47.25</td>\n",
       "      <td>48.00</td>\n",
       "      <td>86356300.0</td>\n",
       "      <td>44.658489</td>\n",
       "    </tr>\n",
       "    <tr>\n",
       "      <th>2019-01-08</th>\n",
       "      <td>48.75</td>\n",
       "      <td>47.75</td>\n",
       "      <td>48.25</td>\n",
       "      <td>48.00</td>\n",
       "      <td>50671500.0</td>\n",
       "      <td>44.658489</td>\n",
       "    </tr>\n",
       "  </tbody>\n",
       "</table>\n",
       "</div>"
      ],
      "text/plain": [
       "             High    Low   Open  Close      Volume  Adj Close\n",
       "Date                                                         \n",
       "2019-01-02  46.75  46.25  46.25  46.25  30481900.0  43.030319\n",
       "2019-01-03  47.00  45.25  46.50  45.50  53438400.0  42.332527\n",
       "2019-01-04  47.00  45.25  45.50  46.75  60708300.0  43.495510\n",
       "2019-01-07  48.75  47.25  47.25  48.00  86356300.0  44.658489\n",
       "2019-01-08  48.75  47.75  48.25  48.00  50671500.0  44.658489"
      ]
     },
     "execution_count": 29,
     "metadata": {},
     "output_type": "execute_result"
    }
   ],
   "source": [
    "#Get the stock quote: 'PTT.BK'-PTT Thailand\n",
    "df = web.DataReader('PTT.BK', data_source='yahoo', start='2019-01-01', end='2020-07-31')\n",
    "\n",
    "#Show the data\n",
    "df.head()"
   ]
  },
  {
   "cell_type": "code",
   "execution_count": null,
   "metadata": {
    "colab": {
     "base_uri": "https://localhost:8080/",
     "height": 34
    },
    "executionInfo": {
     "elapsed": 872,
     "status": "ok",
     "timestamp": 1599914568335,
     "user": {
      "displayName": "Ekachai PHAISANGITTISAGUL",
      "photoUrl": "https://lh3.googleusercontent.com/a-/AOh14GhHdwjOSEWwFX9AC5qmWEjRPIRLBZbVCKDD9-tf=s64",
      "userId": "02198335233660184449"
     },
     "user_tz": -420
    },
    "id": "uOgYdpFSVV-1",
    "outputId": "154a6bfa-e3e9-4f54-aa46-7fab4a457551"
   },
   "outputs": [
    {
     "data": {
      "text/plain": [
       "(387, 6)"
      ]
     },
     "execution_count": 30,
     "metadata": {},
     "output_type": "execute_result"
    }
   ],
   "source": [
    "df.shape"
   ]
  },
  {
   "cell_type": "code",
   "execution_count": null,
   "metadata": {
    "colab": {
     "base_uri": "https://localhost:8080/",
     "height": 238
    },
    "executionInfo": {
     "elapsed": 916,
     "status": "ok",
     "timestamp": 1599914571955,
     "user": {
      "displayName": "Ekachai PHAISANGITTISAGUL",
      "photoUrl": "https://lh3.googleusercontent.com/a-/AOh14GhHdwjOSEWwFX9AC5qmWEjRPIRLBZbVCKDD9-tf=s64",
      "userId": "02198335233660184449"
     },
     "user_tz": -420
    },
    "id": "TccvnsnZVV-7",
    "outputId": "7dc8646e-8082-4dd3-f4f7-e2e81f03d4cb"
   },
   "outputs": [
    {
     "name": "stdout",
     "output_type": "stream",
     "text": [
      "<class 'pandas.core.frame.DataFrame'>\n",
      "DatetimeIndex: 387 entries, 2019-01-02 to 2020-07-31\n",
      "Data columns (total 6 columns):\n",
      " #   Column     Non-Null Count  Dtype  \n",
      "---  ------     --------------  -----  \n",
      " 0   High       387 non-null    float64\n",
      " 1   Low        387 non-null    float64\n",
      " 2   Open       387 non-null    float64\n",
      " 3   Close      387 non-null    float64\n",
      " 4   Volume     387 non-null    float64\n",
      " 5   Adj Close  387 non-null    float64\n",
      "dtypes: float64(6)\n",
      "memory usage: 21.2 KB\n"
     ]
    }
   ],
   "source": [
    "df.info()"
   ]
  },
  {
   "cell_type": "code",
   "execution_count": null,
   "metadata": {
    "colab": {
     "base_uri": "https://localhost:8080/",
     "height": 558
    },
    "executionInfo": {
     "elapsed": 1221,
     "status": "ok",
     "timestamp": 1599914585238,
     "user": {
      "displayName": "Ekachai PHAISANGITTISAGUL",
      "photoUrl": "https://lh3.googleusercontent.com/a-/AOh14GhHdwjOSEWwFX9AC5qmWEjRPIRLBZbVCKDD9-tf=s64",
      "userId": "02198335233660184449"
     },
     "user_tz": -420
    },
    "id": "4VCIBP7QVV_B",
    "outputId": "5139205c-5fac-40bb-f570-fd9d3c4fbab0"
   },
   "outputs": [
    {
     "data": {
      "image/png": "[encoded data removed]",
      "text/plain": [
       "<Figure size 1152x576 with 1 Axes>"
      ]
     },
     "metadata": {},
     "output_type": "display_data"
    }
   ],
   "source": [
    "#Visualize the closing price history\n",
    "plt.style.use('fivethirtyeight')\n",
    "plt.figure(figsize=(16,8))\n",
    "plt.title('Close Price History of PTT stock')\n",
    "plt.plot(df['Close'])\n",
    "plt.xlabel('Data', fontsize=18)\n",
    "plt.ylabel('Close Price(Bath)', fontsize=18)\n",
    "plt.show()"
   ]
  },
  {
   "cell_type": "code",
   "execution_count": null,
   "metadata": {
    "id": "cYs4WN8JVV_K"
   },
   "outputs": [],
   "source": [
    "#convert date column to type datetime64 \n",
    "df['Date'] = pd.to_datetime(df.index)\n",
    "\n",
    "df['Year'] = df['Date'].dt.year\n",
    "df['Month'] = df['Date'].dt.month\n",
    "df['Day'] = df['Date'].dt.day\n",
    "\n",
    "#return only closing price values\n",
    "closing_price = df['Close'].values"
   ]
  },
  {
   "cell_type": "code",
   "execution_count": null,
   "metadata": {
    "colab": {
     "base_uri": "https://localhost:8080/",
     "height": 235
    },
    "executionInfo": {
     "elapsed": 1434,
     "status": "ok",
     "timestamp": 1599915055192,
     "user": {
      "displayName": "Ekachai PHAISANGITTISAGUL",
      "photoUrl": "https://lh3.googleusercontent.com/a-/AOh14GhHdwjOSEWwFX9AC5qmWEjRPIRLBZbVCKDD9-tf=s64",
      "userId": "02198335233660184449"
     },
     "user_tz": -420
    },
    "id": "XOA9R44UVV_T",
    "outputId": "a1bc6051-1c75-4c5e-ef98-3aaef59870fe"
   },
   "outputs": [
    {
     "data": {
      "text/html": [
       "<div>\n",
       "<style scoped>\n",
       "    .dataframe tbody tr th:only-of-type {\n",
       "        vertical-align: middle;\n",
       "    }\n",
       "\n",
       "    .dataframe tbody tr th {\n",
       "        vertical-align: top;\n",
       "    }\n",
       "\n",
       "    .dataframe thead th {\n",
       "        text-align: right;\n",
       "    }\n",
       "</style>\n",
       "<table border=\"1\" class=\"dataframe\">\n",
       "  <thead>\n",
       "    <tr style=\"text-align: right;\">\n",
       "      <th></th>\n",
       "      <th>High</th>\n",
       "      <th>Low</th>\n",
       "      <th>Open</th>\n",
       "      <th>Close</th>\n",
       "      <th>Volume</th>\n",
       "      <th>Adj Close</th>\n",
       "      <th>Date</th>\n",
       "      <th>Year</th>\n",
       "      <th>Month</th>\n",
       "      <th>Day</th>\n",
       "    </tr>\n",
       "    <tr>\n",
       "      <th>Date</th>\n",
       "      <th></th>\n",
       "      <th></th>\n",
       "      <th></th>\n",
       "      <th></th>\n",
       "      <th></th>\n",
       "      <th></th>\n",
       "      <th></th>\n",
       "      <th></th>\n",
       "      <th></th>\n",
       "      <th></th>\n",
       "    </tr>\n",
       "  </thead>\n",
       "  <tbody>\n",
       "    <tr>\n",
       "      <th>2019-01-02</th>\n",
       "      <td>46.75</td>\n",
       "      <td>46.25</td>\n",
       "      <td>46.25</td>\n",
       "      <td>46.25</td>\n",
       "      <td>30481900.0</td>\n",
       "      <td>43.030319</td>\n",
       "      <td>2019-01-02</td>\n",
       "      <td>2019</td>\n",
       "      <td>1</td>\n",
       "      <td>2</td>\n",
       "    </tr>\n",
       "    <tr>\n",
       "      <th>2019-01-03</th>\n",
       "      <td>47.00</td>\n",
       "      <td>45.25</td>\n",
       "      <td>46.50</td>\n",
       "      <td>45.50</td>\n",
       "      <td>53438400.0</td>\n",
       "      <td>42.332527</td>\n",
       "      <td>2019-01-03</td>\n",
       "      <td>2019</td>\n",
       "      <td>1</td>\n",
       "      <td>3</td>\n",
       "    </tr>\n",
       "    <tr>\n",
       "      <th>2019-01-04</th>\n",
       "      <td>47.00</td>\n",
       "      <td>45.25</td>\n",
       "      <td>45.50</td>\n",
       "      <td>46.75</td>\n",
       "      <td>60708300.0</td>\n",
       "      <td>43.495510</td>\n",
       "      <td>2019-01-04</td>\n",
       "      <td>2019</td>\n",
       "      <td>1</td>\n",
       "      <td>4</td>\n",
       "    </tr>\n",
       "    <tr>\n",
       "      <th>2019-01-07</th>\n",
       "      <td>48.75</td>\n",
       "      <td>47.25</td>\n",
       "      <td>47.25</td>\n",
       "      <td>48.00</td>\n",
       "      <td>86356300.0</td>\n",
       "      <td>44.658489</td>\n",
       "      <td>2019-01-07</td>\n",
       "      <td>2019</td>\n",
       "      <td>1</td>\n",
       "      <td>7</td>\n",
       "    </tr>\n",
       "    <tr>\n",
       "      <th>2019-01-08</th>\n",
       "      <td>48.75</td>\n",
       "      <td>47.75</td>\n",
       "      <td>48.25</td>\n",
       "      <td>48.00</td>\n",
       "      <td>50671500.0</td>\n",
       "      <td>44.658489</td>\n",
       "      <td>2019-01-08</td>\n",
       "      <td>2019</td>\n",
       "      <td>1</td>\n",
       "      <td>8</td>\n",
       "    </tr>\n",
       "  </tbody>\n",
       "</table>\n",
       "</div>"
      ],
      "text/plain": [
       "             High    Low   Open  Close      Volume  Adj Close       Date  \\\n",
       "Date                                                                       \n",
       "2019-01-02  46.75  46.25  46.25  46.25  30481900.0  43.030319 2019-01-02   \n",
       "2019-01-03  47.00  45.25  46.50  45.50  53438400.0  42.332527 2019-01-03   \n",
       "2019-01-04  47.00  45.25  45.50  46.75  60708300.0  43.495510 2019-01-04   \n",
       "2019-01-07  48.75  47.25  47.25  48.00  86356300.0  44.658489 2019-01-07   \n",
       "2019-01-08  48.75  47.75  48.25  48.00  50671500.0  44.658489 2019-01-08   \n",
       "\n",
       "            Year  Month  Day  \n",
       "Date                          \n",
       "2019-01-02  2019      1    2  \n",
       "2019-01-03  2019      1    3  \n",
       "2019-01-04  2019      1    4  \n",
       "2019-01-07  2019      1    7  \n",
       "2019-01-08  2019      1    8  "
      ]
     },
     "execution_count": 37,
     "metadata": {},
     "output_type": "execute_result"
    }
   ],
   "source": [
    "df.head()"
   ]
  },
  {
   "cell_type": "code",
   "execution_count": null,
   "metadata": {
    "colab": {
     "base_uri": "https://localhost:8080/",
     "height": 235
    },
    "executionInfo": {
     "elapsed": 880,
     "status": "ok",
     "timestamp": 1599916761014,
     "user": {
      "displayName": "Ekachai PHAISANGITTISAGUL",
      "photoUrl": "https://lh3.googleusercontent.com/a-/AOh14GhHdwjOSEWwFX9AC5qmWEjRPIRLBZbVCKDD9-tf=s64",
      "userId": "02198335233660184449"
     },
     "user_tz": -420
    },
    "id": "_YG_xdeqbsSJ",
    "outputId": "4ed9bc09-8a95-4b5b-a1b8-b37777d9998a"
   },
   "outputs": [
    {
     "data": {
      "text/html": [
       "<div>\n",
       "<style scoped>\n",
       "    .dataframe tbody tr th:only-of-type {\n",
       "        vertical-align: middle;\n",
       "    }\n",
       "\n",
       "    .dataframe tbody tr th {\n",
       "        vertical-align: top;\n",
       "    }\n",
       "\n",
       "    .dataframe thead th {\n",
       "        text-align: right;\n",
       "    }\n",
       "</style>\n",
       "<table border=\"1\" class=\"dataframe\">\n",
       "  <thead>\n",
       "    <tr style=\"text-align: right;\">\n",
       "      <th></th>\n",
       "      <th>Close</th>\n",
       "    </tr>\n",
       "    <tr>\n",
       "      <th>Date</th>\n",
       "      <th></th>\n",
       "    </tr>\n",
       "  </thead>\n",
       "  <tbody>\n",
       "    <tr>\n",
       "      <th>2019-01-02</th>\n",
       "      <td>46.25</td>\n",
       "    </tr>\n",
       "    <tr>\n",
       "      <th>2019-01-03</th>\n",
       "      <td>45.50</td>\n",
       "    </tr>\n",
       "    <tr>\n",
       "      <th>2019-01-04</th>\n",
       "      <td>46.75</td>\n",
       "    </tr>\n",
       "    <tr>\n",
       "      <th>2019-01-07</th>\n",
       "      <td>48.00</td>\n",
       "    </tr>\n",
       "    <tr>\n",
       "      <th>2019-01-08</th>\n",
       "      <td>48.00</td>\n",
       "    </tr>\n",
       "  </tbody>\n",
       "</table>\n",
       "</div>"
      ],
      "text/plain": [
       "            Close\n",
       "Date             \n",
       "2019-01-02  46.25\n",
       "2019-01-03  45.50\n",
       "2019-01-04  46.75\n",
       "2019-01-07  48.00\n",
       "2019-01-08  48.00"
      ]
     },
     "execution_count": 39,
     "metadata": {},
     "output_type": "execute_result"
    }
   ],
   "source": [
    "df_stock = pd.DataFrame(df['Close'])\n",
    "df_stock.head()"
   ]
  },
  {
   "cell_type": "code",
   "execution_count": null,
   "metadata": {
    "colab": {
     "base_uri": "https://localhost:8080/",
     "height": 235
    },
    "executionInfo": {
     "elapsed": 981,
     "status": "ok",
     "timestamp": 1599917050344,
     "user": {
      "displayName": "Ekachai PHAISANGITTISAGUL",
      "photoUrl": "https://lh3.googleusercontent.com/a-/AOh14GhHdwjOSEWwFX9AC5qmWEjRPIRLBZbVCKDD9-tf=s64",
      "userId": "02198335233660184449"
     },
     "user_tz": -420
    },
    "id": "LY7qA-k-eZ3H",
    "outputId": "695d9ada-5974-4916-c794-a0a0b1e15396"
   },
   "outputs": [
    {
     "data": {
      "text/html": [
       "<div>\n",
       "<style scoped>\n",
       "    .dataframe tbody tr th:only-of-type {\n",
       "        vertical-align: middle;\n",
       "    }\n",
       "\n",
       "    .dataframe tbody tr th {\n",
       "        vertical-align: top;\n",
       "    }\n",
       "\n",
       "    .dataframe thead th {\n",
       "        text-align: right;\n",
       "    }\n",
       "</style>\n",
       "<table border=\"1\" class=\"dataframe\">\n",
       "  <thead>\n",
       "    <tr style=\"text-align: right;\">\n",
       "      <th></th>\n",
       "      <th>Close</th>\n",
       "      <th>Prediction</th>\n",
       "    </tr>\n",
       "    <tr>\n",
       "      <th>Date</th>\n",
       "      <th></th>\n",
       "      <th></th>\n",
       "    </tr>\n",
       "  </thead>\n",
       "  <tbody>\n",
       "    <tr>\n",
       "      <th>2020-07-23</th>\n",
       "      <td>39.75</td>\n",
       "      <td>38.5</td>\n",
       "    </tr>\n",
       "    <tr>\n",
       "      <th>2020-07-24</th>\n",
       "      <td>38.50</td>\n",
       "      <td>38.5</td>\n",
       "    </tr>\n",
       "    <tr>\n",
       "      <th>2020-07-29</th>\n",
       "      <td>38.50</td>\n",
       "      <td>38.0</td>\n",
       "    </tr>\n",
       "    <tr>\n",
       "      <th>2020-07-30</th>\n",
       "      <td>38.00</td>\n",
       "      <td>39.0</td>\n",
       "    </tr>\n",
       "    <tr>\n",
       "      <th>2020-07-31</th>\n",
       "      <td>39.00</td>\n",
       "      <td>NaN</td>\n",
       "    </tr>\n",
       "  </tbody>\n",
       "</table>\n",
       "</div>"
      ],
      "text/plain": [
       "            Close  Prediction\n",
       "Date                         \n",
       "2020-07-23  39.75        38.5\n",
       "2020-07-24  38.50        38.5\n",
       "2020-07-29  38.50        38.0\n",
       "2020-07-30  38.00        39.0\n",
       "2020-07-31  39.00         NaN"
      ]
     },
     "execution_count": 40,
     "metadata": {},
     "output_type": "execute_result"
    }
   ],
   "source": [
    "# Create a variable to predict future values\n",
    "future_day = 1\n",
    "# Create a new column (target) shifted 'x' units/days up\n",
    "df_stock['Prediction'] = df[['Close']].shift(-future_day)\n",
    "df_stock.tail()"
   ]
  },
  {
   "cell_type": "code",
   "execution_count": null,
   "metadata": {
    "colab": {
     "base_uri": "https://localhost:8080/",
     "height": 34
    },
    "executionInfo": {
     "elapsed": 847,
     "status": "ok",
     "timestamp": 1599917614117,
     "user": {
      "displayName": "Ekachai PHAISANGITTISAGUL",
      "photoUrl": "https://lh3.googleusercontent.com/a-/AOh14GhHdwjOSEWwFX9AC5qmWEjRPIRLBZbVCKDD9-tf=s64",
      "userId": "02198335233660184449"
     },
     "user_tz": -420
    },
    "id": "3RhJvucAhSiS",
    "outputId": "afcad2f4-300d-459e-cd39-980322082a9c"
   },
   "outputs": [
    {
     "data": {
      "text/plain": [
       "(387, 2)"
      ]
     },
     "execution_count": 41,
     "metadata": {},
     "output_type": "execute_result"
    }
   ],
   "source": [
    "df_stock.shape"
   ]
  },
  {
   "cell_type": "code",
   "execution_count": null,
   "metadata": {
    "colab": {
     "base_uri": "https://localhost:8080/",
     "height": 34
    },
    "executionInfo": {
     "elapsed": 1067,
     "status": "ok",
     "timestamp": 1599917572397,
     "user": {
      "displayName": "Ekachai PHAISANGITTISAGUL",
      "photoUrl": "https://lh3.googleusercontent.com/a-/AOh14GhHdwjOSEWwFX9AC5qmWEjRPIRLBZbVCKDD9-tf=s64",
      "userId": "02198335233660184449"
     },
     "user_tz": -420
    },
    "id": "_5WZYt0efgqX",
    "outputId": "f64de8f3-b77a-4bc9-d461-e9a3cdef7eef"
   },
   "outputs": [
    {
     "name": "stdout",
     "output_type": "stream",
     "text": [
      "(386, 1) (386,)\n"
     ]
    }
   ],
   "source": [
    "# Create a feature dataset X and convert it to a numpy array and remove the last 'x' rows/days\n",
    "X = np.array(df_stock.drop(['Prediction'], 1))[:-future_day]\n",
    "\n",
    "# Create the target data (y) and convert it to a numpy array\n",
    "y = np.array(df_stock['Prediction'])[:-future_day]\n",
    "\n",
    "print(X.shape, y.shape)"
   ]
  },
  {
   "cell_type": "code",
   "execution_count": null,
   "metadata": {
    "colab": {
     "base_uri": "https://localhost:8080/",
     "height": 51
    },
    "executionInfo": {
     "elapsed": 840,
     "status": "ok",
     "timestamp": 1599917711898,
     "user": {
      "displayName": "Ekachai PHAISANGITTISAGUL",
      "photoUrl": "https://lh3.googleusercontent.com/a-/AOh14GhHdwjOSEWwFX9AC5qmWEjRPIRLBZbVCKDD9-tf=s64",
      "userId": "02198335233660184449"
     },
     "user_tz": -420
    },
    "id": "MlMW_ve7hbBy",
    "outputId": "9d6fa42d-127a-401b-bd8c-8cb7a14664bc"
   },
   "outputs": [
    {
     "name": "stdout",
     "output_type": "stream",
     "text": [
      "(356, 1) (356,)\n",
      "(30, 1) (30,)\n"
     ]
    }
   ],
   "source": [
    "# Create training and testing data set (30 days)\n",
    "x_train = X[:-30]\n",
    "y_train = y[:-30]\n",
    "x_test = X[-30:]\n",
    "y_test = y[-30:]\n",
    "print(x_train.shape, y_train.shape)\n",
    "print(x_test.shape, y_test.shape)"
   ]
  },
  {
   "cell_type": "markdown",
   "metadata": {
    "id": "A6EYDx3Pvx3Z"
   },
   "source": [
    "## <font color='red'>Practice</font>\n",
    "\n",
    "Create SVR with **'linear', 'poly', and 'rbf'** kernels using default hyperparameters and then make predictions on the testing data."
   ]
  },
  {
   "cell_type": "code",
   "execution_count": null,
   "metadata": {
    "id": "iRNJZWPDvx3Z"
   },
   "outputs": [],
   "source": [
    "# write your code here\n",
    "# ====================\n",
    "from sklearn.svm import SVR\n",
    "\n",
    "#create models\n",
    "svr_lin = \n",
    "svr_poly = \n",
    "svr_rbf = \n",
    "\n",
    "# Train models\n",
    "\n",
    "\n",
    "\n",
    "# Prediction on testing data\n",
    "y_pred_lin = \n",
    "y_pred_poly = \n",
    "y_pred_rbf = "
   ]
  },
  {
   "cell_type": "code",
   "execution_count": null,
   "metadata": {
    "colab": {
     "base_uri": "https://localhost:8080/",
     "height": 558
    },
    "executionInfo": {
     "elapsed": 1434,
     "status": "ok",
     "timestamp": 1599919714216,
     "user": {
      "displayName": "Ekachai PHAISANGITTISAGUL",
      "photoUrl": "https://lh3.googleusercontent.com/a-/AOh14GhHdwjOSEWwFX9AC5qmWEjRPIRLBZbVCKDD9-tf=s64",
      "userId": "02198335233660184449"
     },
     "user_tz": -420
    },
    "id": "AjF8TgzNX_-l",
    "outputId": "c8a8d3d7-9ac1-4451-9469-a5cf45e5c40a"
   },
   "outputs": [
    {
     "data": {
      "image/png": "[encoded data removed]",
      "text/plain": [
       "<Figure size 864x576 with 1 Axes>"
      ]
     },
     "metadata": {},
     "output_type": "display_data"
    }
   ],
   "source": [
    "# Plot the prediction of the models on graph\n",
    "plt.figure(figsize=(12,8))\n",
    "plt.plot(y_test, color='black', lw = 2, marker='o', label ='True target')\n",
    "plt.plot(y_pred_lin, '--r', lw = 2, marker='o', label ='Linear')\n",
    "plt.plot(y_pred_poly, '--g', lw = 2, marker='o', label ='Polynomial')\n",
    "plt.plot(y_pred_rbf, '--b', lw = 2, marker='o', label ='RBF')\n",
    "plt.title('Comparison of  Price Prediction of PTT stock')\n",
    "plt.xlabel('Dates', fontsize=18)\n",
    "plt.ylabel('Close Price(Bath)', fontsize=18)\n",
    "plt.legend()\n",
    "plt.show()"
   ]
  },
  {
   "cell_type": "code",
   "execution_count": null,
   "metadata": {
    "colab": {
     "base_uri": "https://localhost:8080/",
     "height": 68
    },
    "executionInfo": {
     "elapsed": 828,
     "status": "ok",
     "timestamp": 1599919727619,
     "user": {
      "displayName": "Ekachai PHAISANGITTISAGUL",
      "photoUrl": "https://lh3.googleusercontent.com/a-/AOh14GhHdwjOSEWwFX9AC5qmWEjRPIRLBZbVCKDD9-tf=s64",
      "userId": "02198335233660184449"
     },
     "user_tz": -420
    },
    "id": "9M8IYBZcVV_9",
    "outputId": "d06652c1-d974-4130-cb6d-4fce3cd0bd79"
   },
   "outputs": [
    {
     "name": "stdout",
     "output_type": "stream",
     "text": [
      "MSE of SVR linear: 0.4765\n",
      "MSE of SVR poly: 0.5820\n",
      "MSE of SVR rbf: 0.5060\n"
     ]
    }
   ],
   "source": [
    "# evaluate performance of the models\n",
    "from sklearn import metrics\n",
    "\n",
    "print('MSE of SVR linear: %.4f' %(metrics.mean_squared_error(y_test, y_pred_lin)))\n",
    "print('MSE of SVR poly: %.4f' %(metrics.mean_squared_error(y_test, y_pred_poly)))\n",
    "print('MSE of SVR rbf: %.4f' %(metrics.mean_squared_error(y_test, y_pred_rbf)))"
   ]
  },
  {
   "cell_type": "code",
   "execution_count": null,
   "metadata": {
    "id": "wKyjFFiVVWAD"
   },
   "outputs": [],
   "source": [
    "# Create the parameter grid based on the results of random search \n",
    "params_grid = [{'kernel': ['rbf'], 'gamma': [1, 1e-2, 1e-3, 1e-4],\n",
    "                'kernel': ['poly'],'degree': [2, 3, 4],\n",
    "                'kernel': ['linear'], 'C': [1, 10, 100, 1000]}]"
   ]
  },
  {
   "cell_type": "code",
   "execution_count": null,
   "metadata": {
    "colab": {
     "base_uri": "https://localhost:8080/",
     "height": 204
    },
    "executionInfo": {
     "elapsed": 1016412,
     "status": "ok",
     "timestamp": 1599920859777,
     "user": {
      "displayName": "Ekachai PHAISANGITTISAGUL",
      "photoUrl": "https://lh3.googleusercontent.com/a-/AOh14GhHdwjOSEWwFX9AC5qmWEjRPIRLBZbVCKDD9-tf=s64",
      "userId": "02198335233660184449"
     },
     "user_tz": -420
    },
    "id": "u4coILtVl1-C",
    "outputId": "64fc5e83-194e-4808-d254-bcb5ff6b7b9d"
   },
   "outputs": [
    {
     "name": "stdout",
     "output_type": "stream",
     "text": [
      "Time elapse: 142.9859 sec.\n"
     ]
    }
   ],
   "source": [
    "# Performing CV to tune parameters for best SVM fit\n",
    "from sklearn.model_selection import GridSearchCV\n",
    "start_time = time.time()\n",
    "\n",
    "svm_model = GridSearchCV(SVR(), params_grid, cv=5)\n",
    "svm_model.fit(x_train, y_train)\n",
    "\n",
    "print('Time elapse: %0.2f sec.' %(time.time() - start_time))"
   ]
  },
  {
   "cell_type": "code",
   "execution_count": null,
   "metadata": {
    "colab": {
     "base_uri": "https://localhost:8080/",
     "height": 170
    },
    "executionInfo": {
     "elapsed": 905,
     "status": "ok",
     "timestamp": 1599921000429,
     "user": {
      "displayName": "Ekachai PHAISANGITTISAGUL",
      "photoUrl": "https://lh3.googleusercontent.com/a-/AOh14GhHdwjOSEWwFX9AC5qmWEjRPIRLBZbVCKDD9-tf=s64",
      "userId": "02198335233660184449"
     },
     "user_tz": -420
    },
    "id": "l-D2_-mTonaI",
    "outputId": "05f0ef80-39bd-4d83-fe73-237242193daf"
   },
   "outputs": [
    {
     "name": "stdout",
     "output_type": "stream",
     "text": [
      "Best C: 100 \n",
      "\n",
      "Best Kernel: linear \n",
      "\n",
      "Best Gamma: 1 \n",
      "\n",
      "Best score for training data: 0.7420\n",
      "\n",
      "MSE of best parameters of SVR: 0.4765\n"
     ]
    }
   ],
   "source": [
    "# View the best parameters for the model found using grid search\n",
    "print('Best C:',svm_model.best_estimator_.C,\"\\n\") \n",
    "print('Best Kernel:',svm_model.best_estimator_.kernel,\"\\n\")\n",
    "print('Best Gamma:',svm_model.best_estimator_.gamma,\"\\n\")\n",
    "print('Best score for training data: %0.4f\\n' %(svm_model.best_score_))\n",
    "final_model = svm_model.best_estimator_\n",
    "y_pred = final_model.predict(x_test)\n",
    "print('MSE of best parameters of SVR: %.4f' %(metrics.mean_squared_error(y_test, y_pred)))"
   ]
  },
  {
   "cell_type": "code",
   "execution_count": null,
   "metadata": {
    "colab": {
     "base_uri": "https://localhost:8080/",
     "height": 558
    },
    "executionInfo": {
     "elapsed": 1457,
     "status": "ok",
     "timestamp": 1599921074582,
     "user": {
      "displayName": "Ekachai PHAISANGITTISAGUL",
      "photoUrl": "https://lh3.googleusercontent.com/a-/AOh14GhHdwjOSEWwFX9AC5qmWEjRPIRLBZbVCKDD9-tf=s64",
      "userId": "02198335233660184449"
     },
     "user_tz": -420
    },
    "id": "6eIYCKdzo_DK",
    "outputId": "8053b33a-40fa-410a-def6-59df74dce806"
   },
   "outputs": [
    {
     "data": {
      "image/png": "[encoded data removed]",
      "text/plain": [
       "<Figure size 864x576 with 1 Axes>"
      ]
     },
     "metadata": {},
     "output_type": "display_data"
    }
   ],
   "source": [
    "# Plot the prediction of the best parameters of the models on graph\n",
    "plt.figure(figsize=(12,8))\n",
    "plt.plot(y_test, '-k', lw = 2, marker='o', label ='True target')\n",
    "plt.plot(y_pred, '--m', lw = 2, marker='o', label ='Linear SVR')\n",
    "plt.title('Comparison of  Price Prediction of PTT stock')\n",
    "plt.xlabel('Dates', fontsize=18)\n",
    "plt.ylabel('Close Price(Bath)', fontsize=18)\n",
    "plt.legend()\n",
    "plt.show()"
   ]
  },
  {
   "cell_type": "code",
   "execution_count": null,
   "metadata": {
    "id": "p5uhhB2Svx3a"
   },
   "outputs": [],
   "source": []
  }
 ],
 "metadata": {
  "colab": {
   "collapsed_sections": [],
   "name": "",
   "version": ""
  },
  "kernelspec": {
   "display_name": "Python 3 (ipykernel)",
   "language": "python",
   "name": "python3"
  },
  "language_info": {
   "codemirror_mode": {
    "name": "ipython",
    "version": 3
   },
   "file_extension": ".py",
   "mimetype": "text/x-python",
   "name": "python",
   "nbconvert_exporter": "python",
   "pygments_lexer": "ipython3",
   "version": "3.8.13"
  }
 },
 "nbformat": 4,
 "nbformat_minor": 1
}

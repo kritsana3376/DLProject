{
 "cells": [
  {
   "cell_type": "markdown",
   "metadata": {
    "id": "BZ502RTHNdFA"
   },
   "source": [
    "## Assignment 1 - Regression Problem"
   ]
  },
  {
   "cell_type": "markdown",
   "metadata": {
    "id": "-KWK_C2KNdFD"
   },
   "source": [
    "We will be using the World Happindes Dataset to create a regression model for Happiness.Score prediction for the countries based on Economy.GDP.per.Capita."
   ]
  },
  {
   "cell_type": "markdown",
   "metadata": {
    "id": "kPiEuD4SNdFE"
   },
   "source": [
    "### Import Dependencies\n",
    "\n",
    "- pandas - library that we will use for loading and displaying the data in a table\n",
    "\n",
    "- numpy - library that we will use for linear algebra operations\n",
    "\n",
    "- matplotlib - library that we will use for plotting the data\n",
    "\n",
    "- plotly - library that we will use for plotting interactive 3D scatters\n",
    "\n",
    "- linear_regression - custom implementation of linear regression"
   ]
  },
  {
   "cell_type": "code",
   "execution_count": 1,
   "metadata": {
    "id": "ubqixWnVNdFE"
   },
   "outputs": [],
   "source": [
    "import numpy as np\n",
    "import pandas as pd\n",
    "import matplotlib.pyplot as plt\n",
    "%matplotlib inline"
   ]
  },
  {
   "cell_type": "markdown",
   "metadata": {
    "id": "vP3-b3VINdFF"
   },
   "source": [
    "### Load the Data"
   ]
  },
  {
   "cell_type": "code",
   "execution_count": 2,
   "metadata": {
    "id": "O3VT-TZFNdFF",
    "scrolled": true
   },
   "outputs": [
    {
     "data": {
      "text/html": [
       "<div>\n",
       "<style scoped>\n",
       "    .dataframe tbody tr th:only-of-type {\n",
       "        vertical-align: middle;\n",
       "    }\n",
       "\n",
       "    .dataframe tbody tr th {\n",
       "        vertical-align: top;\n",
       "    }\n",
       "\n",
       "    .dataframe thead th {\n",
       "        text-align: right;\n",
       "    }\n",
       "</style>\n",
       "<table border=\"1\" class=\"dataframe\">\n",
       "  <thead>\n",
       "    <tr style=\"text-align: right;\">\n",
       "      <th></th>\n",
       "      <th>Overall rank</th>\n",
       "      <th>Country or region</th>\n",
       "      <th>Score</th>\n",
       "      <th>GDP per capita</th>\n",
       "      <th>Social support</th>\n",
       "      <th>Healthy life expectancy</th>\n",
       "      <th>Freedom to make life choices</th>\n",
       "      <th>Generosity</th>\n",
       "      <th>Perceptions of corruption</th>\n",
       "    </tr>\n",
       "  </thead>\n",
       "  <tbody>\n",
       "    <tr>\n",
       "      <th>0</th>\n",
       "      <td>1</td>\n",
       "      <td>Finland</td>\n",
       "      <td>7.769</td>\n",
       "      <td>1.340</td>\n",
       "      <td>1.587</td>\n",
       "      <td>0.986</td>\n",
       "      <td>0.596</td>\n",
       "      <td>0.153</td>\n",
       "      <td>0.393</td>\n",
       "    </tr>\n",
       "    <tr>\n",
       "      <th>1</th>\n",
       "      <td>2</td>\n",
       "      <td>Denmark</td>\n",
       "      <td>7.600</td>\n",
       "      <td>1.383</td>\n",
       "      <td>1.573</td>\n",
       "      <td>0.996</td>\n",
       "      <td>0.592</td>\n",
       "      <td>0.252</td>\n",
       "      <td>0.410</td>\n",
       "    </tr>\n",
       "    <tr>\n",
       "      <th>2</th>\n",
       "      <td>3</td>\n",
       "      <td>Norway</td>\n",
       "      <td>7.554</td>\n",
       "      <td>1.488</td>\n",
       "      <td>1.582</td>\n",
       "      <td>1.028</td>\n",
       "      <td>0.603</td>\n",
       "      <td>0.271</td>\n",
       "      <td>0.341</td>\n",
       "    </tr>\n",
       "    <tr>\n",
       "      <th>3</th>\n",
       "      <td>4</td>\n",
       "      <td>Iceland</td>\n",
       "      <td>7.494</td>\n",
       "      <td>1.380</td>\n",
       "      <td>1.624</td>\n",
       "      <td>1.026</td>\n",
       "      <td>0.591</td>\n",
       "      <td>0.354</td>\n",
       "      <td>0.118</td>\n",
       "    </tr>\n",
       "    <tr>\n",
       "      <th>4</th>\n",
       "      <td>5</td>\n",
       "      <td>Netherlands</td>\n",
       "      <td>7.488</td>\n",
       "      <td>1.396</td>\n",
       "      <td>1.522</td>\n",
       "      <td>0.999</td>\n",
       "      <td>0.557</td>\n",
       "      <td>0.322</td>\n",
       "      <td>0.298</td>\n",
       "    </tr>\n",
       "  </tbody>\n",
       "</table>\n",
       "</div>"
      ],
      "text/plain": [
       "   Overall rank Country or region  Score  GDP per capita  Social support  \\\n",
       "0             1           Finland  7.769           1.340           1.587   \n",
       "1             2           Denmark  7.600           1.383           1.573   \n",
       "2             3            Norway  7.554           1.488           1.582   \n",
       "3             4           Iceland  7.494           1.380           1.624   \n",
       "4             5       Netherlands  7.488           1.396           1.522   \n",
       "\n",
       "   Healthy life expectancy  Freedom to make life choices  Generosity  \\\n",
       "0                    0.986                         0.596       0.153   \n",
       "1                    0.996                         0.592       0.252   \n",
       "2                    1.028                         0.603       0.271   \n",
       "3                    1.026                         0.591       0.354   \n",
       "4                    0.999                         0.557       0.322   \n",
       "\n",
       "   Perceptions of corruption  \n",
       "0                      0.393  \n",
       "1                      0.410  \n",
       "2                      0.341  \n",
       "3                      0.118  \n",
       "4                      0.298  "
      ]
     },
     "execution_count": 2,
     "metadata": {},
     "output_type": "execute_result"
    }
   ],
   "source": [
    "df = pd.read_csv('Kritsana NETPUGDEE - world_happiness_report2019.csv')\n",
    "\n",
    "# Print the data table.\n",
    "df.head()"
   ]
  },
  {
   "cell_type": "markdown",
   "metadata": {
    "id": "X6M7qxMkNdFG"
   },
   "source": [
    "#### <font color = 'red'> Q1. Write a command to show dimension of dataset </font>"
   ]
  },
  {
   "cell_type": "code",
   "execution_count": 3,
   "metadata": {
    "id": "XpK3ET-yNdFG"
   },
   "outputs": [
    {
     "data": {
      "text/plain": [
       "(156, 9)"
      ]
     },
     "execution_count": 3,
     "metadata": {},
     "output_type": "execute_result"
    }
   ],
   "source": [
    "df.shape"
   ]
  },
  {
   "cell_type": "markdown",
   "metadata": {
    "id": "rLxortz2NdFH"
   },
   "source": [
    "#### <font color = 'red'> Q2. Write a command to print information about a DataFrame including the index dtype and columns, non-null values and memory usage. </font>"
   ]
  },
  {
   "cell_type": "code",
   "execution_count": 4,
   "metadata": {
    "id": "pTT_ArDONdFH"
   },
   "outputs": [
    {
     "name": "stdout",
     "output_type": "stream",
     "text": [
      "<class 'pandas.core.frame.DataFrame'>\n",
      "RangeIndex: 156 entries, 0 to 155\n",
      "Data columns (total 9 columns):\n",
      " #   Column                        Non-Null Count  Dtype  \n",
      "---  ------                        --------------  -----  \n",
      " 0   Overall rank                  156 non-null    int64  \n",
      " 1   Country or region             156 non-null    object \n",
      " 2   Score                         156 non-null    float64\n",
      " 3   GDP per capita                156 non-null    float64\n",
      " 4   Social support                156 non-null    float64\n",
      " 5   Healthy life expectancy       156 non-null    float64\n",
      " 6   Freedom to make life choices  156 non-null    float64\n",
      " 7   Generosity                    156 non-null    float64\n",
      " 8   Perceptions of corruption     156 non-null    float64\n",
      "dtypes: float64(7), int64(1), object(1)\n",
      "memory usage: 11.1+ KB\n"
     ]
    }
   ],
   "source": [
    "df.info()"
   ]
  },
  {
   "cell_type": "markdown",
   "metadata": {
    "id": "6VjOVOPVNdFH"
   },
   "source": [
    "#### <font color = 'red'> Q3. Write a command to to view some basic statistical details like percentile, mean, std etc. </font>"
   ]
  },
  {
   "cell_type": "code",
   "execution_count": 5,
   "metadata": {
    "id": "ABWRS4NVNdFI"
   },
   "outputs": [
    {
     "data": {
      "text/html": [
       "<div>\n",
       "<style scoped>\n",
       "    .dataframe tbody tr th:only-of-type {\n",
       "        vertical-align: middle;\n",
       "    }\n",
       "\n",
       "    .dataframe tbody tr th {\n",
       "        vertical-align: top;\n",
       "    }\n",
       "\n",
       "    .dataframe thead th {\n",
       "        text-align: right;\n",
       "    }\n",
       "</style>\n",
       "<table border=\"1\" class=\"dataframe\">\n",
       "  <thead>\n",
       "    <tr style=\"text-align: right;\">\n",
       "      <th></th>\n",
       "      <th>Overall rank</th>\n",
       "      <th>Score</th>\n",
       "      <th>GDP per capita</th>\n",
       "      <th>Social support</th>\n",
       "      <th>Healthy life expectancy</th>\n",
       "      <th>Freedom to make life choices</th>\n",
       "      <th>Generosity</th>\n",
       "      <th>Perceptions of corruption</th>\n",
       "    </tr>\n",
       "  </thead>\n",
       "  <tbody>\n",
       "    <tr>\n",
       "      <th>count</th>\n",
       "      <td>156.000000</td>\n",
       "      <td>156.000000</td>\n",
       "      <td>156.000000</td>\n",
       "      <td>156.000000</td>\n",
       "      <td>156.000000</td>\n",
       "      <td>156.000000</td>\n",
       "      <td>156.000000</td>\n",
       "      <td>156.000000</td>\n",
       "    </tr>\n",
       "    <tr>\n",
       "      <th>mean</th>\n",
       "      <td>78.500000</td>\n",
       "      <td>5.407096</td>\n",
       "      <td>0.905147</td>\n",
       "      <td>1.208814</td>\n",
       "      <td>0.725244</td>\n",
       "      <td>0.392571</td>\n",
       "      <td>0.184846</td>\n",
       "      <td>0.110603</td>\n",
       "    </tr>\n",
       "    <tr>\n",
       "      <th>std</th>\n",
       "      <td>45.177428</td>\n",
       "      <td>1.113120</td>\n",
       "      <td>0.398389</td>\n",
       "      <td>0.299191</td>\n",
       "      <td>0.242124</td>\n",
       "      <td>0.143289</td>\n",
       "      <td>0.095254</td>\n",
       "      <td>0.094538</td>\n",
       "    </tr>\n",
       "    <tr>\n",
       "      <th>min</th>\n",
       "      <td>1.000000</td>\n",
       "      <td>2.853000</td>\n",
       "      <td>0.000000</td>\n",
       "      <td>0.000000</td>\n",
       "      <td>0.000000</td>\n",
       "      <td>0.000000</td>\n",
       "      <td>0.000000</td>\n",
       "      <td>0.000000</td>\n",
       "    </tr>\n",
       "    <tr>\n",
       "      <th>25%</th>\n",
       "      <td>39.750000</td>\n",
       "      <td>4.544500</td>\n",
       "      <td>0.602750</td>\n",
       "      <td>1.055750</td>\n",
       "      <td>0.547750</td>\n",
       "      <td>0.308000</td>\n",
       "      <td>0.108750</td>\n",
       "      <td>0.047000</td>\n",
       "    </tr>\n",
       "    <tr>\n",
       "      <th>50%</th>\n",
       "      <td>78.500000</td>\n",
       "      <td>5.379500</td>\n",
       "      <td>0.960000</td>\n",
       "      <td>1.271500</td>\n",
       "      <td>0.789000</td>\n",
       "      <td>0.417000</td>\n",
       "      <td>0.177500</td>\n",
       "      <td>0.085500</td>\n",
       "    </tr>\n",
       "    <tr>\n",
       "      <th>75%</th>\n",
       "      <td>117.250000</td>\n",
       "      <td>6.184500</td>\n",
       "      <td>1.232500</td>\n",
       "      <td>1.452500</td>\n",
       "      <td>0.881750</td>\n",
       "      <td>0.507250</td>\n",
       "      <td>0.248250</td>\n",
       "      <td>0.141250</td>\n",
       "    </tr>\n",
       "    <tr>\n",
       "      <th>max</th>\n",
       "      <td>156.000000</td>\n",
       "      <td>7.769000</td>\n",
       "      <td>1.684000</td>\n",
       "      <td>1.624000</td>\n",
       "      <td>1.141000</td>\n",
       "      <td>0.631000</td>\n",
       "      <td>0.566000</td>\n",
       "      <td>0.453000</td>\n",
       "    </tr>\n",
       "  </tbody>\n",
       "</table>\n",
       "</div>"
      ],
      "text/plain": [
       "       Overall rank       Score  GDP per capita  Social support  \\\n",
       "count    156.000000  156.000000      156.000000      156.000000   \n",
       "mean      78.500000    5.407096        0.905147        1.208814   \n",
       "std       45.177428    1.113120        0.398389        0.299191   \n",
       "min        1.000000    2.853000        0.000000        0.000000   \n",
       "25%       39.750000    4.544500        0.602750        1.055750   \n",
       "50%       78.500000    5.379500        0.960000        1.271500   \n",
       "75%      117.250000    6.184500        1.232500        1.452500   \n",
       "max      156.000000    7.769000        1.684000        1.624000   \n",
       "\n",
       "       Healthy life expectancy  Freedom to make life choices  Generosity  \\\n",
       "count               156.000000                    156.000000  156.000000   \n",
       "mean                  0.725244                      0.392571    0.184846   \n",
       "std                   0.242124                      0.143289    0.095254   \n",
       "min                   0.000000                      0.000000    0.000000   \n",
       "25%                   0.547750                      0.308000    0.108750   \n",
       "50%                   0.789000                      0.417000    0.177500   \n",
       "75%                   0.881750                      0.507250    0.248250   \n",
       "max                   1.141000                      0.631000    0.566000   \n",
       "\n",
       "       Perceptions of corruption  \n",
       "count                 156.000000  \n",
       "mean                    0.110603  \n",
       "std                     0.094538  \n",
       "min                     0.000000  \n",
       "25%                     0.047000  \n",
       "50%                     0.085500  \n",
       "75%                     0.141250  \n",
       "max                     0.453000  "
      ]
     },
     "execution_count": 5,
     "metadata": {},
     "output_type": "execute_result"
    }
   ],
   "source": [
    "df.describe()"
   ]
  },
  {
   "cell_type": "code",
   "execution_count": 6,
   "metadata": {
    "id": "wAxxu-5XNdFI"
   },
   "outputs": [
    {
     "data": {
      "image/png": "[encoded data removed]",
      "text/plain": [
       "<Figure size 720x720 with 9 Axes>"
      ]
     },
     "metadata": {
      "needs_background": "light"
     },
     "output_type": "display_data"
    }
   ],
   "source": [
    "# Print histograms for each feature to see how they vary.\n",
    "histohrams = df.hist(grid=False, figsize=(10, 10))"
   ]
  },
  {
   "cell_type": "code",
   "execution_count": 7,
   "metadata": {
    "id": "qeD_L4Z7NdFI"
   },
   "outputs": [
    {
     "data": {
      "text/plain": [
       "Index(['Overall rank', 'Country or region', 'Score', 'GDP per capita',\n",
       "       'Social support', 'Healthy life expectancy',\n",
       "       'Freedom to make life choices', 'Generosity',\n",
       "       'Perceptions of corruption'],\n",
       "      dtype='object')"
      ]
     },
     "execution_count": 7,
     "metadata": {},
     "output_type": "execute_result"
    }
   ],
   "source": [
    "df.columns"
   ]
  },
  {
   "cell_type": "code",
   "execution_count": 8,
   "metadata": {
    "id": "A7pq0n6kNdFI"
   },
   "outputs": [
    {
     "data": {
      "text/html": [
       "<style  type=\"text/css\" >\n",
       "#T_b1a54_row0_col0,#T_b1a54_row1_col1,#T_b1a54_row2_col2,#T_b1a54_row3_col3,#T_b1a54_row4_col4,#T_b1a54_row5_col5,#T_b1a54_row6_col6,#T_b1a54_row7_col7{\n",
       "            background-color:  #b40426;\n",
       "            color:  #f1f1f1;\n",
       "        }#T_b1a54_row0_col1,#T_b1a54_row0_col2,#T_b1a54_row0_col3,#T_b1a54_row0_col4,#T_b1a54_row0_col5,#T_b1a54_row0_col7,#T_b1a54_row1_col0,#T_b1a54_row2_col6{\n",
       "            background-color:  #3b4cc0;\n",
       "            color:  #f1f1f1;\n",
       "        }#T_b1a54_row0_col6,#T_b1a54_row3_col6{\n",
       "            background-color:  #4358cb;\n",
       "            color:  #f1f1f1;\n",
       "        }#T_b1a54_row1_col2{\n",
       "            background-color:  #da5a49;\n",
       "            color:  #000000;\n",
       "        }#T_b1a54_row1_col3{\n",
       "            background-color:  #de614d;\n",
       "            color:  #000000;\n",
       "        }#T_b1a54_row1_col4{\n",
       "            background-color:  #dd5f4b;\n",
       "            color:  #000000;\n",
       "        }#T_b1a54_row1_col5{\n",
       "            background-color:  #f6a586;\n",
       "            color:  #000000;\n",
       "        }#T_b1a54_row1_col6{\n",
       "            background-color:  #6788ee;\n",
       "            color:  #000000;\n",
       "        }#T_b1a54_row1_col7{\n",
       "            background-color:  #e8d6cc;\n",
       "            color:  #000000;\n",
       "        }#T_b1a54_row2_col0{\n",
       "            background-color:  #5875e1;\n",
       "            color:  #000000;\n",
       "        }#T_b1a54_row2_col1{\n",
       "            background-color:  #d75445;\n",
       "            color:  #000000;\n",
       "        }#T_b1a54_row2_col3{\n",
       "            background-color:  #e16751;\n",
       "            color:  #000000;\n",
       "        }#T_b1a54_row2_col4,#T_b1a54_row4_col2{\n",
       "            background-color:  #d44e41;\n",
       "            color:  #000000;\n",
       "        }#T_b1a54_row2_col5{\n",
       "            background-color:  #f2cbb7;\n",
       "            color:  #000000;\n",
       "        }#T_b1a54_row2_col7{\n",
       "            background-color:  #d8dce2;\n",
       "            color:  #000000;\n",
       "        }#T_b1a54_row3_col0{\n",
       "            background-color:  #5d7ce6;\n",
       "            color:  #000000;\n",
       "        }#T_b1a54_row3_col1,#T_b1a54_row4_col1{\n",
       "            background-color:  #d95847;\n",
       "            color:  #000000;\n",
       "        }#T_b1a54_row3_col2{\n",
       "            background-color:  #e0654f;\n",
       "            color:  #000000;\n",
       "        }#T_b1a54_row3_col4,#T_b1a54_row4_col3{\n",
       "            background-color:  #e57058;\n",
       "            color:  #000000;\n",
       "        }#T_b1a54_row3_col5{\n",
       "            background-color:  #f6bfa6;\n",
       "            color:  #000000;\n",
       "        }#T_b1a54_row3_col7{\n",
       "            background-color:  #bfd3f6;\n",
       "            color:  #000000;\n",
       "        }#T_b1a54_row4_col0{\n",
       "            background-color:  #5977e3;\n",
       "            color:  #000000;\n",
       "        }#T_b1a54_row4_col5,#T_b1a54_row7_col4{\n",
       "            background-color:  #f2c9b4;\n",
       "            color:  #000000;\n",
       "        }#T_b1a54_row4_col6{\n",
       "            background-color:  #485fd1;\n",
       "            color:  #f1f1f1;\n",
       "        }#T_b1a54_row4_col7{\n",
       "            background-color:  #d7dce3;\n",
       "            color:  #000000;\n",
       "        }#T_b1a54_row5_col0{\n",
       "            background-color:  #82a6fb;\n",
       "            color:  #000000;\n",
       "        }#T_b1a54_row5_col1{\n",
       "            background-color:  #f08b6e;\n",
       "            color:  #000000;\n",
       "        }#T_b1a54_row5_col2{\n",
       "            background-color:  #f7bca1;\n",
       "            color:  #000000;\n",
       "        }#T_b1a54_row5_col3{\n",
       "            background-color:  #f7b194;\n",
       "            color:  #000000;\n",
       "        }#T_b1a54_row5_col4{\n",
       "            background-color:  #f7ba9f;\n",
       "            color:  #000000;\n",
       "        }#T_b1a54_row5_col6,#T_b1a54_row7_col0{\n",
       "            background-color:  #a6c4fe;\n",
       "            color:  #000000;\n",
       "        }#T_b1a54_row5_col7{\n",
       "            background-color:  #efcebd;\n",
       "            color:  #000000;\n",
       "        }#T_b1a54_row6_col0{\n",
       "            background-color:  #d6dce4;\n",
       "            color:  #000000;\n",
       "        }#T_b1a54_row6_col1,#T_b1a54_row7_col3{\n",
       "            background-color:  #e6d7cf;\n",
       "            color:  #000000;\n",
       "        }#T_b1a54_row6_col2{\n",
       "            background-color:  #c0d4f5;\n",
       "            color:  #000000;\n",
       "        }#T_b1a54_row6_col3{\n",
       "            background-color:  #c3d5f4;\n",
       "            color:  #000000;\n",
       "        }#T_b1a54_row6_col4{\n",
       "            background-color:  #c7d7f0;\n",
       "            color:  #000000;\n",
       "        }#T_b1a54_row6_col5{\n",
       "            background-color:  #e4d9d2;\n",
       "            color:  #000000;\n",
       "        }#T_b1a54_row6_col7{\n",
       "            background-color:  #dddcdc;\n",
       "            color:  #000000;\n",
       "        }#T_b1a54_row7_col1{\n",
       "            background-color:  #f7b093;\n",
       "            color:  #000000;\n",
       "        }#T_b1a54_row7_col2{\n",
       "            background-color:  #f3c8b2;\n",
       "            color:  #000000;\n",
       "        }#T_b1a54_row7_col5{\n",
       "            background-color:  #f5c0a7;\n",
       "            color:  #000000;\n",
       "        }#T_b1a54_row7_col6{\n",
       "            background-color:  #b9d0f9;\n",
       "            color:  #000000;\n",
       "        }</style><table id=\"T_b1a54_\" ><thead>    <tr>        <th class=\"blank level0\" ></th>        <th class=\"col_heading level0 col0\" >Overall rank</th>        <th class=\"col_heading level0 col1\" >Score</th>        <th class=\"col_heading level0 col2\" >GDP per capita</th>        <th class=\"col_heading level0 col3\" >Social support</th>        <th class=\"col_heading level0 col4\" >Healthy life expectancy</th>        <th class=\"col_heading level0 col5\" >Freedom to make life choices</th>        <th class=\"col_heading level0 col6\" >Generosity</th>        <th class=\"col_heading level0 col7\" >Perceptions of corruption</th>    </tr></thead><tbody>\n",
       "                <tr>\n",
       "                        <th id=\"T_b1a54_level0_row0\" class=\"row_heading level0 row0\" >Overall rank</th>\n",
       "                        <td id=\"T_b1a54_row0_col0\" class=\"data row0 col0\" >1.000000</td>\n",
       "                        <td id=\"T_b1a54_row0_col1\" class=\"data row0 col1\" >-0.989096</td>\n",
       "                        <td id=\"T_b1a54_row0_col2\" class=\"data row0 col2\" >-0.801947</td>\n",
       "                        <td id=\"T_b1a54_row0_col3\" class=\"data row0 col3\" >-0.767465</td>\n",
       "                        <td id=\"T_b1a54_row0_col4\" class=\"data row0 col4\" >-0.787411</td>\n",
       "                        <td id=\"T_b1a54_row0_col5\" class=\"data row0 col5\" >-0.546606</td>\n",
       "                        <td id=\"T_b1a54_row0_col6\" class=\"data row0 col6\" >-0.047993</td>\n",
       "                        <td id=\"T_b1a54_row0_col7\" class=\"data row0 col7\" >-0.351959</td>\n",
       "            </tr>\n",
       "            <tr>\n",
       "                        <th id=\"T_b1a54_level0_row1\" class=\"row_heading level0 row1\" >Score</th>\n",
       "                        <td id=\"T_b1a54_row1_col0\" class=\"data row1 col0\" >-0.989096</td>\n",
       "                        <td id=\"T_b1a54_row1_col1\" class=\"data row1 col1\" >1.000000</td>\n",
       "                        <td id=\"T_b1a54_row1_col2\" class=\"data row1 col2\" >0.793883</td>\n",
       "                        <td id=\"T_b1a54_row1_col3\" class=\"data row1 col3\" >0.777058</td>\n",
       "                        <td id=\"T_b1a54_row1_col4\" class=\"data row1 col4\" >0.779883</td>\n",
       "                        <td id=\"T_b1a54_row1_col5\" class=\"data row1 col5\" >0.566742</td>\n",
       "                        <td id=\"T_b1a54_row1_col6\" class=\"data row1 col6\" >0.075824</td>\n",
       "                        <td id=\"T_b1a54_row1_col7\" class=\"data row1 col7\" >0.385613</td>\n",
       "            </tr>\n",
       "            <tr>\n",
       "                        <th id=\"T_b1a54_level0_row2\" class=\"row_heading level0 row2\" >GDP per capita</th>\n",
       "                        <td id=\"T_b1a54_row2_col0\" class=\"data row2 col0\" >-0.801947</td>\n",
       "                        <td id=\"T_b1a54_row2_col1\" class=\"data row2 col1\" >0.793883</td>\n",
       "                        <td id=\"T_b1a54_row2_col2\" class=\"data row2 col2\" >1.000000</td>\n",
       "                        <td id=\"T_b1a54_row2_col3\" class=\"data row2 col3\" >0.754906</td>\n",
       "                        <td id=\"T_b1a54_row2_col4\" class=\"data row2 col4\" >0.835462</td>\n",
       "                        <td id=\"T_b1a54_row2_col5\" class=\"data row2 col5\" >0.379079</td>\n",
       "                        <td id=\"T_b1a54_row2_col6\" class=\"data row2 col6\" >-0.079662</td>\n",
       "                        <td id=\"T_b1a54_row2_col7\" class=\"data row2 col7\" >0.298920</td>\n",
       "            </tr>\n",
       "            <tr>\n",
       "                        <th id=\"T_b1a54_level0_row3\" class=\"row_heading level0 row3\" >Social support</th>\n",
       "                        <td id=\"T_b1a54_row3_col0\" class=\"data row3 col0\" >-0.767465</td>\n",
       "                        <td id=\"T_b1a54_row3_col1\" class=\"data row3 col1\" >0.777058</td>\n",
       "                        <td id=\"T_b1a54_row3_col2\" class=\"data row3 col2\" >0.754906</td>\n",
       "                        <td id=\"T_b1a54_row3_col3\" class=\"data row3 col3\" >1.000000</td>\n",
       "                        <td id=\"T_b1a54_row3_col4\" class=\"data row3 col4\" >0.719009</td>\n",
       "                        <td id=\"T_b1a54_row3_col5\" class=\"data row3 col5\" >0.447333</td>\n",
       "                        <td id=\"T_b1a54_row3_col6\" class=\"data row3 col6\" >-0.048126</td>\n",
       "                        <td id=\"T_b1a54_row3_col7\" class=\"data row3 col7\" >0.181899</td>\n",
       "            </tr>\n",
       "            <tr>\n",
       "                        <th id=\"T_b1a54_level0_row4\" class=\"row_heading level0 row4\" >Healthy life expectancy</th>\n",
       "                        <td id=\"T_b1a54_row4_col0\" class=\"data row4 col0\" >-0.787411</td>\n",
       "                        <td id=\"T_b1a54_row4_col1\" class=\"data row4 col1\" >0.779883</td>\n",
       "                        <td id=\"T_b1a54_row4_col2\" class=\"data row4 col2\" >0.835462</td>\n",
       "                        <td id=\"T_b1a54_row4_col3\" class=\"data row4 col3\" >0.719009</td>\n",
       "                        <td id=\"T_b1a54_row4_col4\" class=\"data row4 col4\" >1.000000</td>\n",
       "                        <td id=\"T_b1a54_row4_col5\" class=\"data row4 col5\" >0.390395</td>\n",
       "                        <td id=\"T_b1a54_row4_col6\" class=\"data row4 col6\" >-0.029511</td>\n",
       "                        <td id=\"T_b1a54_row4_col7\" class=\"data row4 col7\" >0.295283</td>\n",
       "            </tr>\n",
       "            <tr>\n",
       "                        <th id=\"T_b1a54_level0_row5\" class=\"row_heading level0 row5\" >Freedom to make life choices</th>\n",
       "                        <td id=\"T_b1a54_row5_col0\" class=\"data row5 col0\" >-0.546606</td>\n",
       "                        <td id=\"T_b1a54_row5_col1\" class=\"data row5 col1\" >0.566742</td>\n",
       "                        <td id=\"T_b1a54_row5_col2\" class=\"data row5 col2\" >0.379079</td>\n",
       "                        <td id=\"T_b1a54_row5_col3\" class=\"data row5 col3\" >0.447333</td>\n",
       "                        <td id=\"T_b1a54_row5_col4\" class=\"data row5 col4\" >0.390395</td>\n",
       "                        <td id=\"T_b1a54_row5_col5\" class=\"data row5 col5\" >1.000000</td>\n",
       "                        <td id=\"T_b1a54_row5_col6\" class=\"data row5 col6\" >0.269742</td>\n",
       "                        <td id=\"T_b1a54_row5_col7\" class=\"data row5 col7\" >0.438843</td>\n",
       "            </tr>\n",
       "            <tr>\n",
       "                        <th id=\"T_b1a54_level0_row6\" class=\"row_heading level0 row6\" >Generosity</th>\n",
       "                        <td id=\"T_b1a54_row6_col0\" class=\"data row6 col0\" >-0.047993</td>\n",
       "                        <td id=\"T_b1a54_row6_col1\" class=\"data row6 col1\" >0.075824</td>\n",
       "                        <td id=\"T_b1a54_row6_col2\" class=\"data row6 col2\" >-0.079662</td>\n",
       "                        <td id=\"T_b1a54_row6_col3\" class=\"data row6 col3\" >-0.048126</td>\n",
       "                        <td id=\"T_b1a54_row6_col4\" class=\"data row6 col4\" >-0.029511</td>\n",
       "                        <td id=\"T_b1a54_row6_col5\" class=\"data row6 col5\" >0.269742</td>\n",
       "                        <td id=\"T_b1a54_row6_col6\" class=\"data row6 col6\" >1.000000</td>\n",
       "                        <td id=\"T_b1a54_row6_col7\" class=\"data row6 col7\" >0.326538</td>\n",
       "            </tr>\n",
       "            <tr>\n",
       "                        <th id=\"T_b1a54_level0_row7\" class=\"row_heading level0 row7\" >Perceptions of corruption</th>\n",
       "                        <td id=\"T_b1a54_row7_col0\" class=\"data row7 col0\" >-0.351959</td>\n",
       "                        <td id=\"T_b1a54_row7_col1\" class=\"data row7 col1\" >0.385613</td>\n",
       "                        <td id=\"T_b1a54_row7_col2\" class=\"data row7 col2\" >0.298920</td>\n",
       "                        <td id=\"T_b1a54_row7_col3\" class=\"data row7 col3\" >0.181899</td>\n",
       "                        <td id=\"T_b1a54_row7_col4\" class=\"data row7 col4\" >0.295283</td>\n",
       "                        <td id=\"T_b1a54_row7_col5\" class=\"data row7 col5\" >0.438843</td>\n",
       "                        <td id=\"T_b1a54_row7_col6\" class=\"data row7 col6\" >0.326538</td>\n",
       "                        <td id=\"T_b1a54_row7_col7\" class=\"data row7 col7\" >1.000000</td>\n",
       "            </tr>\n",
       "    </tbody></table>"
      ],
      "text/plain": [
       "<pandas.io.formats.style.Styler at 0x278af0a30c8>"
      ]
     },
     "execution_count": 8,
     "metadata": {},
     "output_type": "execute_result"
    }
   ],
   "source": [
    "#!conda install -c anaconda jinja2\n",
    "corr = df.corr()\n",
    "corr.style.background_gradient(cmap='coolwarm')"
   ]
  },
  {
   "cell_type": "markdown",
   "metadata": {
    "id": "anaEYiv4NdFI"
   },
   "source": [
    "## 1. Univariate Linear Regression \n",
    "\n",
    "Lets select some features to explore more."
   ]
  },
  {
   "cell_type": "code",
   "execution_count": 9,
   "metadata": {
    "id": "6KlzX81LNdFJ"
   },
   "outputs": [
    {
     "data": {
      "text/html": [
       "<div>\n",
       "<style scoped>\n",
       "    .dataframe tbody tr th:only-of-type {\n",
       "        vertical-align: middle;\n",
       "    }\n",
       "\n",
       "    .dataframe tbody tr th {\n",
       "        vertical-align: top;\n",
       "    }\n",
       "\n",
       "    .dataframe thead th {\n",
       "        text-align: right;\n",
       "    }\n",
       "</style>\n",
       "<table border=\"1\" class=\"dataframe\">\n",
       "  <thead>\n",
       "    <tr style=\"text-align: right;\">\n",
       "      <th></th>\n",
       "      <th>GDP per capita</th>\n",
       "      <th>Score</th>\n",
       "    </tr>\n",
       "  </thead>\n",
       "  <tbody>\n",
       "    <tr>\n",
       "      <th>0</th>\n",
       "      <td>1.340</td>\n",
       "      <td>7.769</td>\n",
       "    </tr>\n",
       "    <tr>\n",
       "      <th>1</th>\n",
       "      <td>1.383</td>\n",
       "      <td>7.600</td>\n",
       "    </tr>\n",
       "    <tr>\n",
       "      <th>2</th>\n",
       "      <td>1.488</td>\n",
       "      <td>7.554</td>\n",
       "    </tr>\n",
       "    <tr>\n",
       "      <th>3</th>\n",
       "      <td>1.380</td>\n",
       "      <td>7.494</td>\n",
       "    </tr>\n",
       "    <tr>\n",
       "      <th>4</th>\n",
       "      <td>1.396</td>\n",
       "      <td>7.488</td>\n",
       "    </tr>\n",
       "  </tbody>\n",
       "</table>\n",
       "</div>"
      ],
      "text/plain": [
       "   GDP per capita  Score\n",
       "0           1.340  7.769\n",
       "1           1.383  7.600\n",
       "2           1.488  7.554\n",
       "3           1.380  7.494\n",
       "4           1.396  7.488"
      ]
     },
     "execution_count": 9,
     "metadata": {},
     "output_type": "execute_result"
    }
   ],
   "source": [
    "data = df[['GDP per capita','Score']]\n",
    "data.head()"
   ]
  },
  {
   "cell_type": "markdown",
   "metadata": {
    "id": "rr8YPhxRNdFJ"
   },
   "source": [
    "#### <font color = 'red'> Q4. Write a command to show a scatter plot between GDP per capita and Hapiness Score.</font>"
   ]
  },
  {
   "cell_type": "code",
   "execution_count": 10,
   "metadata": {
    "id": "h3aTyFtSNdFJ"
   },
   "outputs": [
    {
     "data": {
      "text/plain": [
       "<AxesSubplot:xlabel='GDP per capita', ylabel='Score'>"
      ]
     },
     "execution_count": 10,
     "metadata": {},
     "output_type": "execute_result"
    },
    {
     "data": {
      "image/png": "[encoded data removed]",
      "text/plain": [
       "<Figure size 432x288 with 1 Axes>"
      ]
     },
     "metadata": {
      "needs_background": "light"
     },
     "output_type": "display_data"
    }
   ],
   "source": [
    "df.plot.scatter(x='GDP per capita',\n",
    "...             y='Score',\n",
    "...             c='DarkBlue')"
   ]
  },
  {
   "cell_type": "markdown",
   "metadata": {
    "id": "1nDt_ZKQNdFJ"
   },
   "source": [
    "### Split the Data Into Training and Test Sets\n",
    "\n",
    "In this step we will split our dataset into training and testing subsets.\n",
    "\n",
    "Training data set will be used for training of our linear model. Testing dataset will be used for validating of the model. All data from testing dataset will be new to model and we may check how accurate are model predictions."
   ]
  },
  {
   "cell_type": "code",
   "execution_count": 11,
   "metadata": {
    "id": "cKUSCtmNNdFJ"
   },
   "outputs": [],
   "source": [
    "train_x = np.asanyarray(data[['GDP per capita']])    # np.asanyarray convert the input to an ndarray, but pass ndarray subclasses through.\n",
    "train_y = np.asanyarray(data[['Score']])"
   ]
  },
  {
   "cell_type": "markdown",
   "metadata": {
    "id": "7LcVNZM7NdFK"
   },
   "source": [
    "#### <font color = 'red'> Q5. Write a command to split dataset into training and testing subsets in proportion 75/25% and random_state=100.</font>"
   ]
  },
  {
   "cell_type": "code",
   "execution_count": 12,
   "metadata": {
    "id": "jW_SC-t5NdFK"
   },
   "outputs": [],
   "source": [
    "from sklearn.model_selection import train_test_split\n",
    "from sklearn import linear_model\n",
    "X_train, X_test, y_train, y_test = train_test_split(train_x, train_y, test_size=0.25, random_state=100)"
   ]
  },
  {
   "cell_type": "markdown",
   "metadata": {
    "id": "gJyUQsqZNdFK"
   },
   "source": [
    "#### <font color = 'red'> Q6. Write a command to create a linear regression model.</font>"
   ]
  },
  {
   "cell_type": "code",
   "execution_count": 13,
   "metadata": {
    "id": "8OH6oQL5NdFK"
   },
   "outputs": [],
   "source": [
    "regr  = linear_model.LinearRegression()"
   ]
  },
  {
   "cell_type": "markdown",
   "metadata": {
    "id": "-5Vt3FxTNdFK"
   },
   "source": [
    "#### <font color = 'red'> Q7. Write a command to train the model.</font>"
   ]
  },
  {
   "cell_type": "code",
   "execution_count": 14,
   "metadata": {
    "id": "VmObRzwRNdFL"
   },
   "outputs": [
    {
     "data": {
      "text/plain": [
       "LinearRegression()"
      ]
     },
     "execution_count": 14,
     "metadata": {},
     "output_type": "execute_result"
    }
   ],
   "source": [
    "regr.fit (train_x, train_y)"
   ]
  },
  {
   "cell_type": "code",
   "execution_count": 15,
   "metadata": {
    "id": "QbeSfGSKNdFL"
   },
   "outputs": [
    {
     "name": "stdout",
     "output_type": "stream",
     "text": [
      "Coefficients:  [[2.218148]]\n",
      "Intercept:  [3.39934518]\n"
     ]
    }
   ],
   "source": [
    "# The coefficients\n",
    "\n",
    "print ('Coefficients: ', regr.coef_)\n",
    "print ('Intercept: ',regr.intercept_)"
   ]
  },
  {
   "cell_type": "markdown",
   "metadata": {
    "id": "C59bARD0NdFL"
   },
   "source": [
    "### Plot output"
   ]
  },
  {
   "cell_type": "markdown",
   "metadata": {
    "id": "CXMvv6wZNdFL"
   },
   "source": [
    "#### <font color = 'red'> Q8. Write a command to plot the prediction line of the model.</font>"
   ]
  },
  {
   "cell_type": "code",
   "execution_count": 16,
   "metadata": {
    "id": "OxYWHod2NdFL"
   },
   "outputs": [
    {
     "data": {
      "text/plain": [
       "[<matplotlib.lines.Line2D at 0x278b129cf48>]"
      ]
     },
     "execution_count": 16,
     "metadata": {},
     "output_type": "execute_result"
    },
    {
     "data": {
      "image/png": "[encoded data removed]",
      "text/plain": [
       "<Figure size 432x288 with 1 Axes>"
      ]
     },
     "metadata": {
      "needs_background": "light"
     },
     "output_type": "display_data"
    }
   ],
   "source": [
    "df.plot.scatter(x='GDP per capita',\n",
    "...             y='Score',\n",
    "...             c='DarkBlue')\n",
    "plt.plot(X_test, regr.predict(X_test), color=\"blue\", linewidth=3)"
   ]
  },
  {
   "cell_type": "markdown",
   "metadata": {
    "id": "wdc2soWkNdFL"
   },
   "source": [
    "### Prediction of the model on testing data"
   ]
  },
  {
   "cell_type": "markdown",
   "metadata": {
    "id": "m3j2TFA2NdFL"
   },
   "source": [
    "#### <font color = 'red'> Q9. Write a command to predict the testing data of the model.</font>"
   ]
  },
  {
   "cell_type": "code",
   "execution_count": 17,
   "metadata": {
    "id": "BuHMG00ZNdFL"
   },
   "outputs": [],
   "source": [
    "predictions =  regr.predict(X_test)"
   ]
  },
  {
   "cell_type": "markdown",
   "metadata": {
    "id": "2HWvxex7NdFM"
   },
   "source": [
    "#### Evaluation\n",
    "\n",
    "we compare the actual values and predicted values to calculate the accuracy of a regression model. Evaluation metrics provide a key role in the development of a model, as it provides insight to areas that require improvement.\n",
    "\n",
    "There are different model evaluation metrics, lets use MSE here to calculate the accuracy of our model based on the test set: \n",
    "    - Mean absolute error (MAE): It is the mean of the absolute value of the errors. This is the easiest of the metrics to understand since it’s just average error.\n",
    "    - Mean Squared Error (MSE): Mean Squared Error (MSE) is the mean of the squared error. It’s more popular than Mean absolute error because the focus is geared more towards large errors. This is due to the squared term exponentially increasing larger errors in comparison to smaller ones.\n",
    "    - Root Mean Squared Error (RMSE).\n",
    "    - R-squared is not error, but is a popular metric for accuracy of your model. It represents how close the data are to the fitted regression line. The higher the R-squared, the better the model fits your data. Best possible score is 1.0 and it can be negative (because the model can be arbitrarily worse)."
   ]
  },
  {
   "cell_type": "markdown",
   "metadata": {
    "id": "CYX3kinPNdFM"
   },
   "source": [
    "#### <font color = 'red'> Q10. Write a command to evaluate the model's performance i.e. MAE, MSE, RMSE and R2.</font>"
   ]
  },
  {
   "cell_type": "code",
   "execution_count": 18,
   "metadata": {
    "id": "NljaafEqNdFN"
   },
   "outputs": [
    {
     "name": "stdout",
     "output_type": "stream",
     "text": [
      "MAE: 0.57\n",
      "MSE: 0.49\n",
      "RMSE: 0.70\n",
      "R2-score: 0.64\n"
     ]
    }
   ],
   "source": [
    "from sklearn import metrics\n",
    "\n",
    "print('MAE: %.2f' %(metrics.mean_absolute_error(y_test, predictions)))\n",
    "print('MSE: %.2f' %(metrics.mean_squared_error(y_test, predictions)))\n",
    "print('RMSE: %.2f' %(np.sqrt(metrics.mean_squared_error(y_test, predictions))))\n",
    "print('R2-score: %.2f' %(metrics.r2_score(y_test, predictions)))"
   ]
  },
  {
   "cell_type": "markdown",
   "metadata": {
    "id": "CA4Z3B_rNdFN"
   },
   "source": [
    "## 2. Multivariate Linear Regression \n",
    "\n",
    "Lets select some features to explore more."
   ]
  },
  {
   "cell_type": "code",
   "execution_count": 19,
   "metadata": {
    "id": "xcGczBGcNdFN"
   },
   "outputs": [
    {
     "data": {
      "text/html": [
       "<div>\n",
       "<style scoped>\n",
       "    .dataframe tbody tr th:only-of-type {\n",
       "        vertical-align: middle;\n",
       "    }\n",
       "\n",
       "    .dataframe tbody tr th {\n",
       "        vertical-align: top;\n",
       "    }\n",
       "\n",
       "    .dataframe thead th {\n",
       "        text-align: right;\n",
       "    }\n",
       "</style>\n",
       "<table border=\"1\" class=\"dataframe\">\n",
       "  <thead>\n",
       "    <tr style=\"text-align: right;\">\n",
       "      <th></th>\n",
       "      <th>Overall rank</th>\n",
       "      <th>Country or region</th>\n",
       "      <th>Score</th>\n",
       "      <th>GDP per capita</th>\n",
       "      <th>Social support</th>\n",
       "      <th>Healthy life expectancy</th>\n",
       "      <th>Freedom to make life choices</th>\n",
       "      <th>Generosity</th>\n",
       "      <th>Perceptions of corruption</th>\n",
       "    </tr>\n",
       "  </thead>\n",
       "  <tbody>\n",
       "    <tr>\n",
       "      <th>0</th>\n",
       "      <td>1</td>\n",
       "      <td>Finland</td>\n",
       "      <td>7.769</td>\n",
       "      <td>1.340</td>\n",
       "      <td>1.587</td>\n",
       "      <td>0.986</td>\n",
       "      <td>0.596</td>\n",
       "      <td>0.153</td>\n",
       "      <td>0.393</td>\n",
       "    </tr>\n",
       "    <tr>\n",
       "      <th>1</th>\n",
       "      <td>2</td>\n",
       "      <td>Denmark</td>\n",
       "      <td>7.600</td>\n",
       "      <td>1.383</td>\n",
       "      <td>1.573</td>\n",
       "      <td>0.996</td>\n",
       "      <td>0.592</td>\n",
       "      <td>0.252</td>\n",
       "      <td>0.410</td>\n",
       "    </tr>\n",
       "    <tr>\n",
       "      <th>2</th>\n",
       "      <td>3</td>\n",
       "      <td>Norway</td>\n",
       "      <td>7.554</td>\n",
       "      <td>1.488</td>\n",
       "      <td>1.582</td>\n",
       "      <td>1.028</td>\n",
       "      <td>0.603</td>\n",
       "      <td>0.271</td>\n",
       "      <td>0.341</td>\n",
       "    </tr>\n",
       "    <tr>\n",
       "      <th>3</th>\n",
       "      <td>4</td>\n",
       "      <td>Iceland</td>\n",
       "      <td>7.494</td>\n",
       "      <td>1.380</td>\n",
       "      <td>1.624</td>\n",
       "      <td>1.026</td>\n",
       "      <td>0.591</td>\n",
       "      <td>0.354</td>\n",
       "      <td>0.118</td>\n",
       "    </tr>\n",
       "    <tr>\n",
       "      <th>4</th>\n",
       "      <td>5</td>\n",
       "      <td>Netherlands</td>\n",
       "      <td>7.488</td>\n",
       "      <td>1.396</td>\n",
       "      <td>1.522</td>\n",
       "      <td>0.999</td>\n",
       "      <td>0.557</td>\n",
       "      <td>0.322</td>\n",
       "      <td>0.298</td>\n",
       "    </tr>\n",
       "  </tbody>\n",
       "</table>\n",
       "</div>"
      ],
      "text/plain": [
       "   Overall rank Country or region  Score  GDP per capita  Social support  \\\n",
       "0             1           Finland  7.769           1.340           1.587   \n",
       "1             2           Denmark  7.600           1.383           1.573   \n",
       "2             3            Norway  7.554           1.488           1.582   \n",
       "3             4           Iceland  7.494           1.380           1.624   \n",
       "4             5       Netherlands  7.488           1.396           1.522   \n",
       "\n",
       "   Healthy life expectancy  Freedom to make life choices  Generosity  \\\n",
       "0                    0.986                         0.596       0.153   \n",
       "1                    0.996                         0.592       0.252   \n",
       "2                    1.028                         0.603       0.271   \n",
       "3                    1.026                         0.591       0.354   \n",
       "4                    0.999                         0.557       0.322   \n",
       "\n",
       "   Perceptions of corruption  \n",
       "0                      0.393  \n",
       "1                      0.410  \n",
       "2                      0.341  \n",
       "3                      0.118  \n",
       "4                      0.298  "
      ]
     },
     "execution_count": 19,
     "metadata": {},
     "output_type": "execute_result"
    }
   ],
   "source": [
    "df.head()"
   ]
  },
  {
   "cell_type": "code",
   "execution_count": 20,
   "metadata": {
    "id": "m-FcR3kZNdFN"
   },
   "outputs": [
    {
     "data": {
      "text/plain": [
       "Index(['Overall rank', 'Country or region', 'Score', 'GDP per capita',\n",
       "       'Social support', 'Healthy life expectancy',\n",
       "       'Freedom to make life choices', 'Generosity',\n",
       "       'Perceptions of corruption'],\n",
       "      dtype='object')"
      ]
     },
     "execution_count": 20,
     "metadata": {},
     "output_type": "execute_result"
    }
   ],
   "source": [
    "df.columns"
   ]
  },
  {
   "cell_type": "markdown",
   "metadata": {
    "id": "hplh6EQ6NdFN"
   },
   "source": [
    "#### <font color = 'red'> Q11. Write a command to choose 3 features that you think they are best to the model. Note that correlation of each feature pair might help you to choose.</font>"
   ]
  },
  {
   "cell_type": "code",
   "execution_count": 21,
   "metadata": {
    "id": "DmRnQ7opNdFN"
   },
   "outputs": [
    {
     "data": {
      "text/html": [
       "<div>\n",
       "<style scoped>\n",
       "    .dataframe tbody tr th:only-of-type {\n",
       "        vertical-align: middle;\n",
       "    }\n",
       "\n",
       "    .dataframe tbody tr th {\n",
       "        vertical-align: top;\n",
       "    }\n",
       "\n",
       "    .dataframe thead th {\n",
       "        text-align: right;\n",
       "    }\n",
       "</style>\n",
       "<table border=\"1\" class=\"dataframe\">\n",
       "  <thead>\n",
       "    <tr style=\"text-align: right;\">\n",
       "      <th></th>\n",
       "      <th>Score</th>\n",
       "      <th>Social support</th>\n",
       "      <th>Healthy life expectancy</th>\n",
       "      <th>Freedom to make life choices</th>\n",
       "    </tr>\n",
       "  </thead>\n",
       "  <tbody>\n",
       "    <tr>\n",
       "      <th>0</th>\n",
       "      <td>7.769</td>\n",
       "      <td>1.587</td>\n",
       "      <td>0.986</td>\n",
       "      <td>0.596</td>\n",
       "    </tr>\n",
       "    <tr>\n",
       "      <th>1</th>\n",
       "      <td>7.600</td>\n",
       "      <td>1.573</td>\n",
       "      <td>0.996</td>\n",
       "      <td>0.592</td>\n",
       "    </tr>\n",
       "    <tr>\n",
       "      <th>2</th>\n",
       "      <td>7.554</td>\n",
       "      <td>1.582</td>\n",
       "      <td>1.028</td>\n",
       "      <td>0.603</td>\n",
       "    </tr>\n",
       "    <tr>\n",
       "      <th>3</th>\n",
       "      <td>7.494</td>\n",
       "      <td>1.624</td>\n",
       "      <td>1.026</td>\n",
       "      <td>0.591</td>\n",
       "    </tr>\n",
       "    <tr>\n",
       "      <th>4</th>\n",
       "      <td>7.488</td>\n",
       "      <td>1.522</td>\n",
       "      <td>0.999</td>\n",
       "      <td>0.557</td>\n",
       "    </tr>\n",
       "  </tbody>\n",
       "</table>\n",
       "</div>"
      ],
      "text/plain": [
       "   Score  Social support  Healthy life expectancy  \\\n",
       "0  7.769           1.587                    0.986   \n",
       "1  7.600           1.573                    0.996   \n",
       "2  7.554           1.582                    1.028   \n",
       "3  7.494           1.624                    1.026   \n",
       "4  7.488           1.522                    0.999   \n",
       "\n",
       "   Freedom to make life choices  \n",
       "0                         0.596  \n",
       "1                         0.592  \n",
       "2                         0.603  \n",
       "3                         0.591  \n",
       "4                         0.557  "
      ]
     },
     "execution_count": 21,
     "metadata": {},
     "output_type": "execute_result"
    }
   ],
   "source": [
    "data = df[['Score','Social support','Healthy life expectancy','Freedom to make life choices']]\n",
    "data.head()"
   ]
  },
  {
   "cell_type": "markdown",
   "metadata": {
    "id": "01271-7zNdFN"
   },
   "source": [
    "### Normalize the data\n",
    "\n",
    "Normalizing in scikit_learn refers to rescaling each observation (row) to have a length of 1 (called a unit norm or a vector with the length of 1)."
   ]
  },
  {
   "cell_type": "code",
   "execution_count": 22,
   "metadata": {
    "id": "lC7nl0ZUNdFN"
   },
   "outputs": [],
   "source": [
    "X = np.asanyarray(data.drop('Score',axis=1))    # np.asanyarray convert the input to an ndarray, but pass ndarray subclasses through.\n",
    "y = np.asanyarray(data[['Score']])"
   ]
  },
  {
   "cell_type": "markdown",
   "metadata": {
    "id": "2aG9fTDhNdFO"
   },
   "source": [
    "#### <font color = 'red'> Q12. Write a command to scale input vectors individually to unit norm by using \"Normalier\" method.</font>"
   ]
  },
  {
   "cell_type": "code",
   "execution_count": 23,
   "metadata": {
    "id": "UfBNzROTNdFO"
   },
   "outputs": [
    {
     "data": {
      "text/plain": [
       "array([[0.50078889, 0.31113916, 0.18807195],\n",
       "       [0.49762733, 0.31509016, 0.18728251],\n",
       "       [0.49237473, 0.3199502 , 0.18767507],\n",
       "       [0.50107991, 0.31656896, 0.18235113],\n",
       "       [0.49447693, 0.3245614 , 0.18096166],\n",
       "       [0.48444444, 0.33396825, 0.1815873 ],\n",
       "       [0.48436482, 0.3286645 , 0.18697068],\n",
       "       [0.49147727, 0.32386364, 0.18465909],\n",
       "       [0.48113811, 0.33216113, 0.18670077],\n",
       "       [0.4879259 , 0.33608998, 0.17598412],\n",
       "       [0.49283668, 0.32983126, 0.17733206],\n",
       "       [0.48649561, 0.32511816, 0.18838623],\n",
       "       [0.50963222, 0.36042032, 0.12994746],\n",
       "       [0.49022207, 0.33543255, 0.17434538],\n",
       "       [0.51541555, 0.33378016, 0.15080429],\n",
       "       [0.50619296, 0.3256193 , 0.16818774],\n",
       "       [0.49523161, 0.33617166, 0.16859673],\n",
       "       [0.50759366, 0.33277084, 0.1596355 ],\n",
       "       [0.52315978, 0.31382406, 0.16301616],\n",
       "       [0.51920391, 0.32122905, 0.15956704],\n",
       "       [0.47932675, 0.30186608, 0.21880717],\n",
       "       [0.49302627, 0.32403503, 0.1829387 ],\n",
       "       [0.5055407 , 0.32900267, 0.16545663],\n",
       "       [0.49847613, 0.35387741, 0.14764646],\n",
       "       [0.53061224, 0.33914657, 0.13024119],\n",
       "       [0.51738473, 0.34769463, 0.13492063],\n",
       "       [0.49764706, 0.29254902, 0.20980392],\n",
       "       [0.52373601, 0.30683134, 0.16943265],\n",
       "       [0.47937203, 0.31799927, 0.2026287 ],\n",
       "       [0.51031637, 0.36519945, 0.12448418],\n",
       "       [0.5027894 , 0.31729428, 0.17991632],\n",
       "       [0.54694033, 0.30482706, 0.14823261],\n",
       "       [0.50885724, 0.30948246, 0.1816603 ],\n",
       "       [0.46297468, 0.36107595, 0.17594937],\n",
       "       [0.5046729 , 0.32060138, 0.17472572],\n",
       "       [0.53952139, 0.37672226, 0.08375635],\n",
       "       [0.49297297, 0.31387387, 0.19315315],\n",
       "       [0.55314454, 0.32401618, 0.12283928],\n",
       "       [0.55132512, 0.26614408, 0.1825308 ],\n",
       "       [0.51265597, 0.31515152, 0.17219251],\n",
       "       [0.52434842, 0.25925926, 0.21639232],\n",
       "       [0.5773628 , 0.3117378 , 0.11089939],\n",
       "       [0.51819184, 0.30907755, 0.17273061],\n",
       "       [0.50098684, 0.31348684, 0.18552632],\n",
       "       [0.5105973 , 0.32177264, 0.16763006],\n",
       "       [0.49697459, 0.30576846, 0.19725696],\n",
       "       [0.51436782, 0.31645115, 0.16918103],\n",
       "       [0.48908297, 0.32751092, 0.18340611],\n",
       "       [0.45788094, 0.39011606, 0.152003  ],\n",
       "       [0.48991785, 0.32412248, 0.18595967],\n",
       "       [0.50343511, 0.30839695, 0.18816794],\n",
       "       [0.50429492, 0.29634932, 0.19935576],\n",
       "       [0.57654467, 0.31955923, 0.1038961 ],\n",
       "       [0.504971  , 0.42916321, 0.06586578],\n",
       "       [0.52744218, 0.3016914 , 0.17086641],\n",
       "       [0.52804573, 0.29689175, 0.17506252],\n",
       "       [0.51964418, 0.29577465, 0.18458117],\n",
       "       [0.48069106, 0.36856369, 0.15074526],\n",
       "       [0.48074679, 0.32205368, 0.19719953],\n",
       "       [0.56970155, 0.27540612, 0.15489233],\n",
       "       [0.4983512 , 0.29101401, 0.21063479],\n",
       "       [0.57858022, 0.339762  , 0.08165778],\n",
       "       [0.53326103, 0.28091106, 0.18582791],\n",
       "       [0.46182221, 0.38436001, 0.15381778],\n",
       "       [0.49322493, 0.33062331, 0.17615176],\n",
       "       [0.48706603, 0.34002723, 0.17290674],\n",
       "       [0.51095732, 0.30853518, 0.1805075 ],\n",
       "       [0.57802548, 0.28901274, 0.13296178],\n",
       "       [0.51555024, 0.26196172, 0.22248804],\n",
       "       [0.54902739, 0.33902342, 0.11194919],\n",
       "       [0.57439446, 0.31963668, 0.10596886],\n",
       "       [0.54473244, 0.28135452, 0.17391304],\n",
       "       [0.56031289, 0.35858378, 0.08110333],\n",
       "       [0.49795918, 0.32562358, 0.17641723],\n",
       "       [0.51130856, 0.36914378, 0.11954766],\n",
       "       [0.44980627, 0.39520958, 0.15498415],\n",
       "       [0.52334703, 0.29099739, 0.18565558],\n",
       "       [0.53415602, 0.37241075, 0.09343323],\n",
       "       [0.57553957, 0.34193821, 0.08252222],\n",
       "       [0.46709214, 0.33027523, 0.20263263],\n",
       "       [0.5885898 , 0.31699478, 0.09441543],\n",
       "       [0.52025203, 0.44959496, 0.03015302],\n",
       "       [0.60874751, 0.26520875, 0.12604374],\n",
       "       [0.52240614, 0.33831247, 0.13928139],\n",
       "       [0.62345679, 0.13748597, 0.23905724],\n",
       "       [0.53877857, 0.27088797, 0.19033346],\n",
       "       [0.59405176, 0.25376593, 0.15218231],\n",
       "       [0.57114722, 0.38650911, 0.04234367],\n",
       "       [0.39455096, 0.39455096, 0.21089808],\n",
       "       [0.50595501, 0.33921482, 0.15483017],\n",
       "       [0.54279379, 0.36141907, 0.09578714],\n",
       "       [0.51104503, 0.28037383, 0.20858114],\n",
       "       [0.44308783, 0.35171327, 0.2051989 ],\n",
       "       [0.49124088, 0.31058394, 0.19817518],\n",
       "       [0.55457599, 0.25356843, 0.19185558],\n",
       "       [0.56103576, 0.20406905, 0.23489519],\n",
       "       [0.57332323, 0.3088291 , 0.11784767],\n",
       "       [0.50028818, 0.28011527, 0.21959654],\n",
       "       [0.58045977, 0.16666667, 0.25287356],\n",
       "       [0.5234842 , 0.28906917, 0.18744663],\n",
       "       [0.50557161, 0.33635988, 0.15806851],\n",
       "       [0.36939983, 0.33558749, 0.29501268],\n",
       "       [0.4758785 , 0.30256105, 0.22156045],\n",
       "       [0.57735481, 0.27867252, 0.14397267],\n",
       "       [0.48402256, 0.25892857, 0.25704887],\n",
       "       [0.61158895, 0.21231326, 0.17609778],\n",
       "       [0.40285036, 0.4152019 , 0.18194774],\n",
       "       [0.59807209, 0.33738474, 0.06454317],\n",
       "       [0.47381757, 0.26900338, 0.25717905],\n",
       "       [0.58162313, 0.31343284, 0.10494403],\n",
       "       [0.56785178, 0.28592889, 0.14621933],\n",
       "       [0.45770492, 0.1757377 , 0.36655738],\n",
       "       [0.59926974, 0.21770881, 0.18302145],\n",
       "       [0.5308642 , 0.25102881, 0.218107  ],\n",
       "       [0.62448255, 0.2247191 , 0.15079834],\n",
       "       [0.49001393, 0.37854157, 0.1314445 ],\n",
       "       [0.43581781, 0.4063147 , 0.15786749],\n",
       "       [0.53971354, 0.24414062, 0.21614583],\n",
       "       [0.37755102, 0.42630385, 0.19614512],\n",
       "       [0.53687822, 0.24471126, 0.21841052],\n",
       "       [0.49273183, 0.29122807, 0.2160401 ],\n",
       "       [0.67770035, 0.28397213, 0.03832753],\n",
       "       [0.52727273, 0.20855615, 0.26417112],\n",
       "       [0.50454087, 0.41120081, 0.08425832],\n",
       "       [0.42607897, 0.33195592, 0.24196511],\n",
       "       [0.545961  , 0.31977716, 0.13426184],\n",
       "       [0.64249001, 0.2038835 , 0.1536265 ],\n",
       "       [0.63505747, 0.17701149, 0.18793103],\n",
       "       [0.60416667, 0.17385057, 0.22198276],\n",
       "       [0.49298519, 0.32385035, 0.18316446],\n",
       "       [0.52233525, 0.24546661, 0.23219814],\n",
       "       [0.67667845, 0.16961131, 0.15371025],\n",
       "       [0.60251409, 0.32032943, 0.07715648],\n",
       "       [0.54112101, 0.27867994, 0.18019906],\n",
       "       [0.78590971, 0.        , 0.21409029],\n",
       "       [0.57226981, 0.23715203, 0.19057816],\n",
       "       [0.54002079, 0.33471933, 0.12525988],\n",
       "       [0.55248042, 0.22245431, 0.22506527],\n",
       "       [0.44862745, 0.32156863, 0.22980392],\n",
       "       [0.41329011, 0.31766613, 0.26904376],\n",
       "       [0.5314121 , 0.25533141, 0.21325648],\n",
       "       [0.53917379, 0.35968661, 0.1011396 ],\n",
       "       [0.56578135, 0.3428042 , 0.09141445],\n",
       "       [0.68926887, 0.0990566 , 0.21167453],\n",
       "       [0.4269341 , 0.36294174, 0.21012416],\n",
       "       [0.58385744, 0.2269392 , 0.18920335],\n",
       "       [0.59157352, 0.38607051, 0.02235598],\n",
       "       [0.53554724, 0.25163704, 0.21281572],\n",
       "       [0.45487365, 0.52948255, 0.0156438 ],\n",
       "       [0.37383178, 0.33044059, 0.29572764],\n",
       "       [0.65743358, 0.26172979, 0.08083663],\n",
       "       [0.37819149, 0.32659574, 0.29521277],\n",
       "       [0.49139367, 0.2770683 , 0.23153803],\n",
       "       [0.58883827, 0.41116173, 0.        ],\n",
       "       [0.        , 0.31818182, 0.68181818],\n",
       "       [0.65340909, 0.33522727, 0.01136364]])"
      ]
     },
     "execution_count": 23,
     "metadata": {},
     "output_type": "execute_result"
    }
   ],
   "source": [
    "from sklearn.preprocessing import Normalizer\n",
    "transformer = Normalizer('l1')\n",
    "X_norm = transformer.transform(X)\n",
    "X_norm"
   ]
  },
  {
   "cell_type": "code",
   "execution_count": 24,
   "metadata": {},
   "outputs": [
    {
     "data": {
      "text/plain": [
       "array([1., 1., 1., 1., 1., 1., 1., 1., 1., 1., 1., 1., 1., 1., 1., 1., 1.,\n",
       "       1., 1., 1., 1., 1., 1., 1., 1., 1., 1., 1., 1., 1., 1., 1., 1., 1.,\n",
       "       1., 1., 1., 1., 1., 1., 1., 1., 1., 1., 1., 1., 1., 1., 1., 1., 1.,\n",
       "       1., 1., 1., 1., 1., 1., 1., 1., 1., 1., 1., 1., 1., 1., 1., 1., 1.,\n",
       "       1., 1., 1., 1., 1., 1., 1., 1., 1., 1., 1., 1., 1., 1., 1., 1., 1.,\n",
       "       1., 1., 1., 1., 1., 1., 1., 1., 1., 1., 1., 1., 1., 1., 1., 1., 1.,\n",
       "       1., 1., 1., 1., 1., 1., 1., 1., 1., 1., 1., 1., 1., 1., 1., 1., 1.,\n",
       "       1., 1., 1., 1., 1., 1., 1., 1., 1., 1., 1., 1., 1., 1., 1., 1., 1.,\n",
       "       1., 1., 1., 1., 1., 1., 1., 1., 1., 1., 1., 1., 1., 1., 1., 1., 1.,\n",
       "       1., 1., 1.])"
      ]
     },
     "execution_count": 24,
     "metadata": {},
     "output_type": "execute_result"
    }
   ],
   "source": [
    "np.sum(X_norm, axis=1)"
   ]
  },
  {
   "cell_type": "markdown",
   "metadata": {
    "id": "TjcGAgD9NdFO"
   },
   "source": [
    "### Split the Data Into Training and Test Sets\n",
    "\n",
    "In this step we will split our dataset into training and testing subsets.\n",
    "\n",
    "Training data set will be used for training of our linear model. Testing dataset will be used for validating of the model. All data from testing dataset will be new to model and we may check how accurate are model predictions."
   ]
  },
  {
   "cell_type": "markdown",
   "metadata": {
    "id": "zTJmutyeNdFO"
   },
   "source": [
    "#### <font color = 'red'> Q13. Write a command to split scaled input into training and testing subsets in proportion 75/25% and random_state=100.</font>"
   ]
  },
  {
   "cell_type": "code",
   "execution_count": 25,
   "metadata": {
    "id": "j64bsQY5NdFO"
   },
   "outputs": [],
   "source": [
    "X_train, X_test, y_train, y_test = train_test_split(X_norm, y, test_size=0.25, random_state=100)"
   ]
  },
  {
   "cell_type": "markdown",
   "metadata": {
    "id": "qDxxsohiNdFO"
   },
   "source": [
    "### Create and Training the model"
   ]
  },
  {
   "cell_type": "code",
   "execution_count": 26,
   "metadata": {
    "id": "ZZa0eoYmNdFO"
   },
   "outputs": [],
   "source": [
    "from sklearn.linear_model import LinearRegression\n",
    "\n",
    "mlreg = LinearRegression()"
   ]
  },
  {
   "cell_type": "code",
   "execution_count": 27,
   "metadata": {
    "id": "C6204XRNNdFO"
   },
   "outputs": [
    {
     "data": {
      "text/plain": [
       "LinearRegression()"
      ]
     },
     "execution_count": 27,
     "metadata": {},
     "output_type": "execute_result"
    }
   ],
   "source": [
    "mlreg.fit(X_train,y_train)"
   ]
  },
  {
   "cell_type": "code",
   "execution_count": 28,
   "metadata": {
    "id": "1IveePvXNdFP"
   },
   "outputs": [
    {
     "name": "stdout",
     "output_type": "stream",
     "text": [
      "Intercept:  [1.99652231e+14]\n",
      "Coefficients:  [[-1.99652231e+14 -1.99652231e+14 -1.99652231e+14]]\n"
     ]
    }
   ],
   "source": [
    "# The coefficients\n",
    "print ('Intercept: ',mlreg.intercept_)\n",
    "print ('Coefficients: ',mlreg.coef_)"
   ]
  },
  {
   "cell_type": "markdown",
   "metadata": {
    "id": "K3NOD_KaNdFP"
   },
   "source": [
    "### Model Evaluation\n",
    "\n",
    "Let's grab predictions off our test set and see how well it did!"
   ]
  },
  {
   "cell_type": "code",
   "execution_count": 29,
   "metadata": {
    "id": "MZDJceL0NdFP"
   },
   "outputs": [],
   "source": [
    "predictions = mlreg.predict(X_test)"
   ]
  },
  {
   "cell_type": "markdown",
   "metadata": {
    "id": "ySyMwvdBNdFP"
   },
   "source": [
    "### Regression Evaluation Metrics\n",
    "\n",
    "\n",
    "Here are three common evaluation metrics for regression problems:\n",
    "\n",
    "**Mean Absolute Error** (MAE) is the mean of the absolute value of the errors:\n",
    "\n",
    "$$\\frac 1n\\sum_{i=1}^n|y_i-\\hat{y}_i|$$\n",
    "\n",
    "**Mean Squared Error** (MSE) is the mean of the squared errors:\n",
    "\n",
    "$$\\frac 1n\\sum_{i=1}^n(y_i-\\hat{y}_i)^2$$\n",
    "\n",
    "**Root Mean Squared Error** (RMSE) is the square root of the mean of the squared errors:\n",
    "\n",
    "$$\\sqrt{\\frac 1n\\sum_{i=1}^n(y_i-\\hat{y}_i)^2}$$\n",
    "\n",
    "Comparing these metrics:\n",
    "\n",
    "- **MAE** is the easiest to understand, because it's the average error.\n",
    "- **MSE** is more popular than MAE, because MSE \"punishes\" larger errors, which tends to be useful in the real world.\n",
    "- **RMSE** is even more popular than MSE, because RMSE is interpretable in the \"y\" units.\n",
    "\n",
    "All of these are **loss functions**, because we want to minimize them."
   ]
  },
  {
   "cell_type": "markdown",
   "metadata": {
    "id": "9BbeaRVZNdFP"
   },
   "source": [
    "#### <font color = 'red'> Q14. Write a command to evaluate the model's performance i.e. MAE, MSE, RMSE and R2.</font>"
   ]
  },
  {
   "cell_type": "code",
   "execution_count": 30,
   "metadata": {
    "id": "yJvWvGaANdFP"
   },
   "outputs": [
    {
     "name": "stdout",
     "output_type": "stream",
     "text": [
      "MAE: 0.98\n",
      "MSE: 1.33\n",
      "RMSE: 1.15\n",
      "R2-score: 0.04\n"
     ]
    }
   ],
   "source": [
    "print('MAE: %.2f' %(metrics.mean_absolute_error(y_test, predictions)))\n",
    "print('MSE: %.2f' %(metrics.mean_squared_error(y_test, predictions)))\n",
    "print('RMSE: %.2f' %(np.sqrt(metrics.mean_squared_error(y_test, predictions))))\n",
    "print('R2-score: %.2f' %(metrics.r2_score(y_test, predictions)))"
   ]
  },
  {
   "cell_type": "code",
   "execution_count": null,
   "metadata": {},
   "outputs": [],
   "source": []
  }
 ],
 "metadata": {
  "colab": {
   "provenance": []
  },
  "kernelspec": {
   "display_name": "TensorFlow2-GPU",
   "language": "python",
   "name": "tf2"
  },
  "language_info": {
   "codemirror_mode": {
    "name": "ipython",
    "version": 3
   },
   "file_extension": ".py",
   "mimetype": "text/x-python",
   "name": "python",
   "nbconvert_exporter": "python",
   "pygments_lexer": "ipython3",
   "version": "3.7.9"
  }
 },
 "nbformat": 4,
 "nbformat_minor": 1
}
